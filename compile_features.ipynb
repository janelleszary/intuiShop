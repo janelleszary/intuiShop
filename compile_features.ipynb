{
 "cells": [
  {
   "cell_type": "markdown",
   "metadata": {},
   "source": [
    "# Data preprocessing\n",
    "**Accomplishes:**\n",
    "1. Compile master-array with image and text vectors for each item.\n",
    "2. Re-classify each item (from initial API to client's labels).\n",
    "3.  Downsample so data size is easy to manage and classes are unbiased.\n",
    "[Future versions should use more representative dataset]\n",
    "\n",
    "**Requires:**\n",
    "\n",
    "- data/text_vecs.csv <-- file with text features that were generated with w2v. One row for each item, where:\n",
    "    - column1 = id\n",
    "    - column2 = category\n",
    "    - columns 3:303 = values for the 300 features.\n",
    "- data/allnpy_22.txt <-- file with image features that were generated with VGG-16's 2nd to last layer (ie, not softmax layer). One row for each item, where:\n",
    "    - column1 = full filepath and name for each npy file\n",
    "    - columns 2:4097 = values for the 4096 features.\n",
    "- data/lookup_table.csv <-- lookup table with column headers where:\n",
    "    - column1 = 'HAND' (desired categories) \n",
    "    - column2 = 'SS' (current categories)\n",
    "    \n",
    "**Output:**\n",
    "\n",
    "File: 'data/handlabeled_vectors_1k.csv' with the 11k items we're using. Contains columns for id, category-original, category-hand, 300 for text, 300 for image."
   ]
  },
  {
   "cell_type": "code",
   "execution_count": 28,
   "metadata": {
    "collapsed": true
   },
   "outputs": [],
   "source": [
    "import pandas as pd\n",
    "import numpy as np\n",
    "import matplotlib.pyplot as plt\n",
    "%matplotlib inline\n",
    "\n",
    "from sklearn.decomposition import TruncatedSVD\n"
   ]
  },
  {
   "cell_type": "markdown",
   "metadata": {},
   "source": [
    "## 1. Compile master-array with image and text vectors for each item."
   ]
  },
  {
   "cell_type": "markdown",
   "metadata": {},
   "source": [
    "### Import text description vectors (which are the outputs from w2v)"
   ]
  },
  {
   "cell_type": "code",
   "execution_count": 3,
   "metadata": {
    "collapsed": false
   },
   "outputs": [],
   "source": [
    "dnames = ['id','category']\n",
    "for i in range(1,301):\n",
    "    dnames.append(str(i))\n",
    "    \n",
    "descriptiondf = pd.read_csv('data/text_vecs.csv',names=dnames)"
   ]
  },
  {
   "cell_type": "markdown",
   "metadata": {},
   "source": [
    "### Import image vectors (which are the outputs from CNN)"
   ]
  },
  {
   "cell_type": "code",
   "execution_count": 9,
   "metadata": {
    "collapsed": false
   },
   "outputs": [],
   "source": [
    "# This takes a little while \n",
    "npylines = pd.read_csv('data/allnpy_22.txt', header=None)\n",
    "npynames = npylines.columns.tolist()\n",
    "npynames[0] = 'id'\n",
    "npylines.columns = npynames\n",
    "\n",
    "# Just need id, not full path\n",
    "npyid = []\n",
    "for i in range(0, len(npylines)):\n",
    "    npyid.append(npylines.id[i].split('.')[0].split('/')[-1])\n",
    "    \n",
    "npylines['id'] = npyid"
   ]
  },
  {
   "cell_type": "markdown",
   "metadata": {},
   "source": [
    "### Use only items which have both image and description vectors\n",
    "Because of time & processing constraints we didn't process all the images, only ~2k from each category."
   ]
  },
  {
   "cell_type": "code",
   "execution_count": 14,
   "metadata": {
    "collapsed": true
   },
   "outputs": [],
   "source": [
    "# Find union of vecs:\n",
    "bothdf = pd.merge(descriptiondf, npylines, how='inner', on=['id'])"
   ]
  },
  {
   "cell_type": "markdown",
   "metadata": {
    "collapsed": true
   },
   "source": [
    "- bothdf columns:\n",
    "    - [0] is 'id'\n",
    "    - [1] is 'category'\n",
    "    - [2:302] is text features\n",
    "    - [302:4398] is image features "
   ]
  },
  {
   "cell_type": "code",
   "execution_count": 15,
   "metadata": {
    "collapsed": true
   },
   "outputs": [],
   "source": [
    "# Make subset vectors for easy use later\n",
    "id_vec = bothdf[bothdf.columns[0:2]]\n",
    "text_vec = bothdf[bothdf.columns[2:302]]\n",
    "image_vec = bothdf[bothdf.columns[302:4398]]"
   ]
  },
  {
   "cell_type": "markdown",
   "metadata": {},
   "source": [
    "## 2. Re-classify each item (from initial API to client's labels)."
   ]
  },
  {
   "cell_type": "markdown",
   "metadata": {
    "collapsed": true
   },
   "source": [
    "### Import lookup table which matches current labels to the labels used by the clients"
   ]
  },
  {
   "cell_type": "code",
   "execution_count": 16,
   "metadata": {
    "collapsed": true
   },
   "outputs": [],
   "source": [
    "# Import hand-labeled categories\n",
    "hand_df = pd.read_csv('data/lookup_table.csv', delimiter=',')"
   ]
  },
  {
   "cell_type": "code",
   "execution_count": 19,
   "metadata": {
    "collapsed": false
   },
   "outputs": [],
   "source": [
    "# Get hand-labeled categories for each item\n",
    "hand = []\n",
    "for i in range(0, len(id_vec)):\n",
    "    a = hand_df[hand_df.SS==id_vec.category[i].strip()].HAND\n",
    "    if (len(a)>0):\n",
    "        hand.append(a.values[0])\n",
    "    else:\n",
    "        hand.append('NA')\n",
    "        \n",
    "handdf = pd.DataFrame()\n",
    "handdf['hand'] = hand\n",
    "\n",
    "# Get rid of NA rows (items not mapped to items the client uses)\n",
    "all_withhand = pd.concat((id_vec, handdf, text_vec, image_vec), axis=1)\n",
    "all_withhand = all_withhand[all_withhand.hand != 'NA']"
   ]
  },
  {
   "cell_type": "code",
   "execution_count": 20,
   "metadata": {
    "collapsed": true
   },
   "outputs": [],
   "source": [
    "# Get new subsets\n",
    "hand_id_vec = all_withhand[all_withhand.columns[0:4]]\n",
    "hand_text_vec = all_withhand[all_withhand.columns[4:304]]\n",
    "hand_image_vec = all_withhand[all_withhand.columns[304:4399]]"
   ]
  },
  {
   "cell_type": "code",
   "execution_count": null,
   "metadata": {
    "collapsed": true
   },
   "outputs": [],
   "source": []
  },
  {
   "cell_type": "markdown",
   "metadata": {},
   "source": [
    "## 3.  Downsample so data size is easy to manage and classes are unbiased."
   ]
  },
  {
   "cell_type": "code",
   "execution_count": 23,
   "metadata": {
    "collapsed": false
   },
   "outputs": [
    {
     "data": {
      "text/plain": [
       "<matplotlib.axes._subplots.AxesSubplot at 0x1289201d0>"
      ]
     },
     "execution_count": 23,
     "metadata": {},
     "output_type": "execute_result"
    },
    {
     "data": {
      "image/png": "[encoded data removed]",
      "text/plain": [
       "<matplotlib.figure.Figure at 0x12892f400>"
      ]
     },
     "metadata": {},
     "output_type": "display_data"
    }
   ],
   "source": [
    "hand_id_vec.hand.value_counts().plot.bar(use_index=False)"
   ]
  },
  {
   "cell_type": "markdown",
   "metadata": {},
   "source": [
    "Labels removed because of NDA. This shows that we currently have 27 categories which are pretty unbalanced. One category has nearly 12k, while many others only have ~1k, and some only have a few hundred."
   ]
  },
  {
   "cell_type": "markdown",
   "metadata": {},
   "source": [
    "#### As a quick solution, we'll use 1k items from each category. We will only use categories with at least 1k, and for categories with more than 1k, we will randomly sample 1k."
   ]
  },
  {
   "cell_type": "code",
   "execution_count": 88,
   "metadata": {
    "collapsed": true
   },
   "outputs": [],
   "source": [
    "# Downsample observations\n",
    "handover1k = all_withhand.hand.value_counts() > 1000\n",
    "handover1k = handover1k[handover1k]\n",
    "handover1k = handover1k.index\n",
    "\n",
    "allhand = pd.DataFrame()\n",
    "for cat in handover1k:\n",
    "    mycat = all_withhand[all_withhand.hand==cat]\n",
    "    mycat = mycat.sample(n=1000, random_state=0)\n",
    "    allhand = allhand.append(mycat)\n",
    "    \n",
    "# Generate new subsets\n",
    "ds_id_vec = allhand[allhand.columns[0:3]]\n",
    "ds_text_vec = allhand[allhand.columns[3:303]]\n",
    "ds_image_vec = allhand[allhand.columns[303:]]"
   ]
  },
  {
   "cell_type": "code",
   "execution_count": 89,
   "metadata": {
    "collapsed": false
   },
   "outputs": [
    {
     "data": {
      "text/plain": [
       "11000"
      ]
     },
     "execution_count": 89,
     "metadata": {},
     "output_type": "execute_result"
    }
   ],
   "source": [
    "len(ds_id_vec)"
   ]
  },
  {
   "cell_type": "code",
   "execution_count": 61,
   "metadata": {
    "collapsed": false
   },
   "outputs": [
    {
     "data": {
      "text/plain": [
       "<matplotlib.axes._subplots.AxesSubplot at 0x11d031438>"
      ]
     },
     "execution_count": 61,
     "metadata": {},
     "output_type": "execute_result"
    },
    {
     "data": {
      "image/png": "[encoded data removed]",
      "text/plain": [
       "<matplotlib.figure.Figure at 0x1a355fcc0>"
      ]
     },
     "metadata": {},
     "output_type": "display_data"
    }
   ],
   "source": [
    "allhand.hand.value_counts().plot.bar(use_index=False)"
   ]
  },
  {
   "cell_type": "markdown",
   "metadata": {},
   "source": [
    "Now we have 11 balanced categories. (11,000 total items in the dataset)"
   ]
  },
  {
   "cell_type": "markdown",
   "metadata": {},
   "source": [
    "### Sanity checks to look at the features"
   ]
  },
  {
   "cell_type": "code",
   "execution_count": 90,
   "metadata": {
    "collapsed": false,
    "scrolled": true
   },
   "outputs": [
    {
     "data": {
      "text/plain": [
       "<matplotlib.axes._subplots.AxesSubplot at 0x1964cf668>"
      ]
     },
     "execution_count": 90,
     "metadata": {},
     "output_type": "execute_result"
    },
    {
     "data": {
      "image/png": "[encoded data removed]",
      "text/plain": [
       "<matplotlib.figure.Figure at 0x1691ad748>"
      ]
     },
     "metadata": {},
     "output_type": "display_data"
    }
   ],
   "source": [
    "# W2V is fine.\n",
    "# Plot number of zeros for each image feature, there seem to be a lot of zeros in there...\n",
    "numZero = ((ds_image_vec==0).sum())\n",
    "numZero = numZero.sort_values()\n",
    "numZero.plot.bar()"
   ]
  },
  {
   "cell_type": "markdown",
   "metadata": {},
   "source": [
    "There are a lot of zeros in some features. Out of 11k, some have nearly all 0s. This is not terribly surprising as the last layer of VGG-16 is probably encoding some pretty high-level info for animal-classification, but not necessarily clothing classification."
   ]
  },
  {
   "cell_type": "markdown",
   "metadata": {},
   "source": [
    "### Downsample the features in each image vector (currently 4k+ features)"
   ]
  },
  {
   "cell_type": "code",
   "execution_count": 116,
   "metadata": {
    "collapsed": true
   },
   "outputs": [],
   "source": [
    "# 4k features with many zeros --> 300 dense features\n",
    "svd = TruncatedSVD(n_components=300, n_iter=7, random_state=0)\n",
    "# ds_id_vec = allhand[allhand.columns[0:3]]\n",
    "# ds_text_vec = allhand[allhand.columns[3:303]]\n",
    "# ds_image_vec = allhand[allhand.columns[303:]]\n",
    "\n",
    "allhand_image = svd.fit_transform(ds_image_vec)\n",
    "allhand_image = pd.DataFrame(allhand_image)\n",
    "allhand_image.index = ds_image_vec.index\n",
    "\n",
    "allhand_reduced = pd.concat([ds_id_vec, ds_text_vec, allhand_image], axis=1)\n",
    "allhand = allhand_reduced"
   ]
  },
  {
   "cell_type": "code",
   "execution_count": 117,
   "metadata": {
    "collapsed": false
   },
   "outputs": [
    {
     "data": {
      "text/plain": [
       "(11000, 603)"
      ]
     },
     "execution_count": 117,
     "metadata": {},
     "output_type": "execute_result"
    }
   ],
   "source": [
    "allhand.shape"
   ]
  },
  {
   "cell_type": "code",
   "execution_count": null,
   "metadata": {
    "collapsed": false
   },
   "outputs": [],
   "source": []
  },
  {
   "cell_type": "code",
   "execution_count": null,
   "metadata": {
    "collapsed": false
   },
   "outputs": [],
   "source": []
  },
  {
   "cell_type": "markdown",
   "metadata": {
    "collapsed": true
   },
   "source": [
    "### Output to file"
   ]
  },
  {
   "cell_type": "code",
   "execution_count": 70,
   "metadata": {
    "collapsed": true
   },
   "outputs": [],
   "source": [
    "# This takes a long time. ~30 min for full vecs, but those aren't used currently.\n",
    "bothdf.to_csv('data/both_vectors.csv')"
   ]
  },
  {
   "cell_type": "code",
   "execution_count": 118,
   "metadata": {
    "collapsed": true
   },
   "outputs": [],
   "source": [
    "# Output vectors for just the 11k we'll use. \n",
    "allhand_reduced.to_csv('data/handlabeled_vectors_1k.csv')"
   ]
  },
  {
   "cell_type": "code",
   "execution_count": null,
   "metadata": {
    "collapsed": true
   },
   "outputs": [],
   "source": []
  }
 ],
 "metadata": {
  "kernelspec": {
   "display_name": "Python 3",
   "language": "python",
   "name": "python3"
  },
  "language_info": {
   "codemirror_mode": {
    "name": "ipython",
    "version": 3
   },
   "file_extension": ".py",
   "mimetype": "text/x-python",
   "name": "python",
   "nbconvert_exporter": "python",
   "pygments_lexer": "ipython3",
   "version": "3.6.0"
  }
 },
 "nbformat": 4,
 "nbformat_minor": 2
}
