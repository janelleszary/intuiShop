{
 "cells": [
  {
   "cell_type": "code",
   "execution_count": 116,
   "metadata": {
    "collapsed": true
   },
   "outputs": [],
   "source": [
    "import pandas as pd\n",
    "import numpy as np\n",
    "\n",
    "from keras.models import Sequential\n",
    "from keras.layers import Dense\n",
    "from sklearn.preprocessing import LabelEncoder\n",
    "from keras.utils import np_utils\n",
    "\n",
    "\n",
    "from sklearn import preprocessing\n",
    "from sklearn.decomposition import TruncatedSVD\n",
    "from sklearn.model_selection import train_test_split\n",
    "from sklearn.model_selection import cross_val_score\n",
    "from sklearn.linear_model import LogisticRegression\n",
    "from sklearn.svm import LinearSVC\n",
    "from sklearn.naive_bayes import GaussianNB\n",
    "from sklearn import neighbors\n",
    "from sklearn.tree import DecisionTreeClassifier\n",
    "\n",
    "\n",
    "from sklearn.metrics import accuracy_score\n",
    "from sklearn.metrics import classification_report\n",
    "from sklearn.metrics import confusion_matrix\n",
    "\n",
    "from sklearn.cluster import KMeans\n",
    "import time\n",
    "\n",
    "import matplotlib.pyplot as plt\n",
    "%matplotlib inline"
   ]
  },
  {
   "cell_type": "code",
   "execution_count": 15,
   "metadata": {
    "collapsed": true
   },
   "outputs": [],
   "source": [
    "df1 = pd.read_csv('data/both_vectors.csv')\n",
    "allvec = df1\n",
    "id_vec = df1[df1.columns[0:3]]\n",
    "text_vec = df1[df1.columns[3:303]]\n",
    "image_vec = df1[df1.columns[303:4398]]"
   ]
  },
  {
   "cell_type": "code",
   "execution_count": 16,
   "metadata": {
    "collapsed": true
   },
   "outputs": [],
   "source": [
    "# Hand-labeled categories\n",
    "hand_df = pd.read_csv('data/lookup_table.csv', delimiter=',')\n",
    "hand = []\n",
    "for i in range(0, len(id_vec)):\n",
    "    a = hand_df[hand_df.SS==id_vec.category[i].strip()].HAND\n",
    "    if (len(a)>0):\n",
    "        hand.append(a.values[0])\n",
    "    else:\n",
    "        hand.append('NA')"
   ]
  },
  {
   "cell_type": "code",
   "execution_count": 18,
   "metadata": {
    "collapsed": true
   },
   "outputs": [],
   "source": [
    "handdf = pd.DataFrame()\n",
    "handdf['hand'] = hand\n",
    "# Get rid of NA rows\n",
    "all_withhand = pd.concat((id_vec, handdf, text_vec, image_vec), axis=1)\n",
    "all_withhand = all_withhand[all_withhand.hand != 'NA']"
   ]
  },
  {
   "cell_type": "code",
   "execution_count": 28,
   "metadata": {},
   "outputs": [
    {
     "data": {
      "text/plain": [
       "27"
      ]
     },
     "execution_count": 28,
     "metadata": {},
     "output_type": "execute_result"
    }
   ],
   "source": [
    "# Get new subsets\n",
    "Hid_vec = all_withhand[all_withhand.columns[0:4]]\n",
    "Htext_vec = all_withhand[all_withhand.columns[4:304]]\n",
    "Himage_vec = all_withhand[all_withhand.columns[304:4399]]\n",
    "len(np.unique(all_withhand.hand))"
   ]
  },
  {
   "cell_type": "markdown",
   "metadata": {},
   "source": [
    "## Balance categories"
   ]
  },
  {
   "cell_type": "code",
   "execution_count": 36,
   "metadata": {},
   "outputs": [
    {
     "data": {
      "text/plain": [
       "<matplotlib.axes._subplots.AxesSubplot at 0x1205dd390>"
      ]
     },
     "execution_count": 36,
     "metadata": {},
     "output_type": "execute_result"
    },
    {
     "data": {
      "image/png": "[encoded data removed]",
      "text/plain": [
       "<matplotlib.figure.Figure at 0x1205fde80>"
      ]
     },
     "metadata": {},
     "output_type": "display_data"
    }
   ],
   "source": [
    "Hid_vec.hand.value_counts().plot.bar(use_index=False)\n",
    "# Don't show labels because of NDA"
   ]
  },
  {
   "cell_type": "markdown",
   "metadata": {},
   "source": [
    "For this, only use items with at least 1k, and cut everything off to 1k. Randomly select which 1k to use."
   ]
  },
  {
   "cell_type": "code",
   "execution_count": 37,
   "metadata": {},
   "outputs": [
    {
     "data": {
      "text/plain": [
       "11"
      ]
     },
     "execution_count": 37,
     "metadata": {},
     "output_type": "execute_result"
    }
   ],
   "source": [
    "handover1k = all_withhand.hand.value_counts() > 1000\n",
    "handover1k = handover1k[handover1k]\n",
    "handover1k = handover1k.index\n",
    "len(handover1k)"
   ]
  },
  {
   "cell_type": "code",
   "execution_count": 24,
   "metadata": {
    "collapsed": true
   },
   "outputs": [],
   "source": [
    "allhand = pd.DataFrame()\n",
    "for cat in handover1k:\n",
    "    mycat = all_withhand[all_withhand.hand==cat]\n",
    "    mycat = mycat.sample(n=1000, random_state=0)\n",
    "    allhand = allhand.append(mycat)"
   ]
  },
  {
   "cell_type": "markdown",
   "metadata": {},
   "source": [
    "# Reduce dimensionality in image vector\n",
    "### (sparse 4k matrix --> dense 300)"
   ]
  },
  {
   "cell_type": "code",
   "execution_count": 38,
   "metadata": {
    "collapsed": true
   },
   "outputs": [],
   "source": [
    "svd = TruncatedSVD(n_components=300, n_iter=7, random_state=0)\n",
    "allhand_id = allhand[allhand.columns[0:4]]\n",
    "allhand_text = allhand[allhand.columns[4:304]]\n",
    "allhand_imageFULL = allhand[allhand.columns[304:4399]]\n",
    "\n",
    "allhand_image = svd.fit_transform(allhand_imageFULL)\n",
    "allhand_image = pd.DataFrame(allhand_image)\n",
    "allhand_image.index = allhand_imageFULL.index\n",
    "\n",
    "allhand_reduced = pd.concat([allhand_id, allhand_text, allhand_image], axis=1)\n",
    "# allhand_reduced.to_csv('handlabeled_vectors.csv')\n",
    "allhand = allhand_reduced"
   ]
  },
  {
   "cell_type": "markdown",
   "metadata": {},
   "source": [
    "### Check feature variances"
   ]
  },
  {
   "cell_type": "code",
   "execution_count": 26,
   "metadata": {},
   "outputs": [
    {
     "data": {
      "text/plain": [
       "[<matplotlib.lines.Line2D at 0x12dcd4358>]"
      ]
     },
     "execution_count": 26,
     "metadata": {},
     "output_type": "execute_result"
    },
    {
     "data": {
      "image/png": "[encoded data removed]",
      "text/plain": [
       "<matplotlib.figure.Figure at 0x1266bd748>"
      ]
     },
     "metadata": {},
     "output_type": "display_data"
    }
   ],
   "source": [
    "plt.plot(np.log(np.std(allhand_text, axis=0)))"
   ]
  },
  {
   "cell_type": "code",
   "execution_count": 27,
   "metadata": {},
   "outputs": [
    {
     "data": {
      "text/plain": [
       "[<matplotlib.lines.Line2D at 0x12d6fcb38>]"
      ]
     },
     "execution_count": 27,
     "metadata": {},
     "output_type": "execute_result"
    },
    {
     "data": {
      "image/png": "[encoded data removed]",
      "text/plain": [
       "<matplotlib.figure.Figure at 0x11fff1240>"
      ]
     },
     "metadata": {},
     "output_type": "display_data"
    }
   ],
   "source": [
    "plt.plot(np.log(np.std(allhand_image, axis=0)))"
   ]
  },
  {
   "cell_type": "markdown",
   "metadata": {},
   "source": [
    "# Supervised Classification\n",
    "### How easy is it to classify into their hand-labeled categories?"
   ]
  },
  {
   "cell_type": "code",
   "execution_count": null,
   "metadata": {
    "collapsed": true
   },
   "outputs": [],
   "source": []
  },
  {
   "cell_type": "markdown",
   "metadata": {},
   "source": [
    "#### From text alone"
   ]
  },
  {
   "cell_type": "code",
   "execution_count": 82,
   "metadata": {},
   "outputs": [],
   "source": [
    "X = allhand_text\n",
    "y = allhand_id.hand\n",
    "X_train, X_test, y_train, y_test = train_test_split(X,y,random_state=0)"
   ]
  },
  {
   "cell_type": "code",
   "execution_count": 93,
   "metadata": {},
   "outputs": [
    {
     "name": "stdout",
     "output_type": "stream",
     "text": [
      "Time: 7.652992010116577 seconds.\n",
      "Accuracty: 0.845090909091\n",
      "             precision    recall  f1-score   support\n",
      "\n",
      "       bags       0.96      0.97      0.96       237\n",
      "      coats       0.85      0.86      0.85       270\n",
      "    dresses       0.75      0.86      0.80       240\n",
      "    jackets       0.82      0.76      0.79       250\n",
      "     shirts       0.76      0.76      0.76       227\n",
      "      shoes       0.97      0.96      0.96       253\n",
      "     shorts       0.76      0.76      0.76       251\n",
      "     skirts       0.89      0.85      0.87       266\n",
      "   swimwear       0.88      0.87      0.88       263\n",
      "   trousers       0.78      0.86      0.82       244\n",
      "  underwear       0.88      0.78      0.83       249\n",
      "\n",
      "avg / total       0.85      0.85      0.85      2750\n",
      "\n",
      "[[230   0   0   2   0   0   0   0   5   0   0]\n",
      " [  0 232   3  21   5   0   1   2   2   3   1]\n",
      " [  0   1 206   3  10   1   5   6   2   3   3]\n",
      " [  1  27   6 191  12   0   5   1   3   3   1]\n",
      " [  1   5  15   6 172   1   6   5   1  11   4]\n",
      " [  2   0   2   1   2 242   1   0   1   0   2]\n",
      " [  0   4  12   1   4   0 192   4   7  27   0]\n",
      " [  0   0   8   2   4   1  16 225   3   4   3]\n",
      " [  2   0   5   0   2   2   9   3 229   2   9]\n",
      " [  2   4   2   3   2   0  12   5   1 210   3]\n",
      " [  2   0  16   2  12   2   6   2   5   7 195]]\n"
     ]
    }
   ],
   "source": [
    "# Try logistic regression\n",
    "tic = time.time()\n",
    "lr = LogisticRegression(random_state=1)\n",
    "lr.fit(X, y)\n",
    "lr_y_pred = lr.predict(X_test)\n",
    "toc = time.time()\n",
    "print('Time: ' + str(toc - tic) + ' seconds.' )\n",
    "print('Accuracty: ' + str(accuracy_score(y_test, lr_y_pred)))\n",
    "print(classification_report(y_test, lr_y_pred))\n",
    "print(confusion_matrix(y_test, lr_y_pred))"
   ]
  },
  {
   "cell_type": "code",
   "execution_count": 96,
   "metadata": {},
   "outputs": [
    {
     "name": "stdout",
     "output_type": "stream",
     "text": [
      "Time: 4.889408111572266 seconds.\n",
      "Accuracty: 0.847272727273\n",
      "             precision    recall  f1-score   support\n",
      "\n",
      "       bags       0.96      0.96      0.96       237\n",
      "      coats       0.86      0.84      0.85       270\n",
      "    dresses       0.78      0.83      0.81       240\n",
      "    jackets       0.82      0.80      0.81       250\n",
      "     shirts       0.76      0.76      0.76       227\n",
      "      shoes       0.95      0.95      0.95       253\n",
      "     shorts       0.76      0.79      0.77       251\n",
      "     skirts       0.88      0.84      0.86       266\n",
      "   swimwear       0.90      0.90      0.90       263\n",
      "   trousers       0.82      0.86      0.84       244\n",
      "  underwear       0.83      0.80      0.81       249\n",
      "\n",
      "avg / total       0.85      0.85      0.85      2750\n",
      "\n",
      "[[228   0   0   2   1   0   0   1   4   0   1]\n",
      " [  0 226   2  27   5   1   2   2   2   2   1]\n",
      " [  0   1 199   3  13   2   6   8   1   1   6]\n",
      " [  2  25   3 199   9   0   2   3   1   5   1]\n",
      " [  1   3  15   5 172   1   4   6   1  11   8]\n",
      " [  2   0   1   1   0 241   3   0   2   0   3]\n",
      " [  1   1   7   1   3   2 198   5   8  19   6]\n",
      " [  0   1  11   2   2   3  14 224   3   2   4]\n",
      " [  0   1   5   0   3   2   7   1 236   1   7]\n",
      " [  2   3   1   2   3   0  17   3   0 209   4]\n",
      " [  2   3  10   1  16   1   9   1   4   4 198]]\n"
     ]
    }
   ],
   "source": [
    "# Try linear SVM\n",
    "tic = time.time()\n",
    "svc = LinearSVC(random_state=1)\n",
    "svc.fit(X_train, y_train)\n",
    "svc_y_pred = svc.predict(X_test)\n",
    "toc = time.time()\n",
    "print('Time: ' + str(toc - tic) + ' seconds.' )\n",
    "print('Accuracty: ' + str(accuracy_score(y_test, svc_y_pred)))\n",
    "print(classification_report(y_test, svc_y_pred))\n",
    "print(confusion_matrix(y_test, svc_y_pred))"
   ]
  },
  {
   "cell_type": "code",
   "execution_count": 98,
   "metadata": {},
   "outputs": [
    {
     "name": "stdout",
     "output_type": "stream",
     "text": [
      "Time: 0.24440407752990723 seconds.\n",
      "Accuracty: 0.527272727273\n",
      "             precision    recall  f1-score   support\n",
      "\n",
      "       bags       0.95      0.74      0.83       237\n",
      "      coats       0.69      0.37      0.48       270\n",
      "    dresses       0.53      0.74      0.62       240\n",
      "    jackets       0.40      0.58      0.47       250\n",
      "     shirts       0.61      0.32      0.42       227\n",
      "      shoes       0.96      0.72      0.82       253\n",
      "     shorts       0.49      0.13      0.21       251\n",
      "     skirts       0.76      0.48      0.59       266\n",
      "   swimwear       0.37      0.78      0.50       263\n",
      "   trousers       0.48      0.68      0.56       244\n",
      "  underwear       0.24      0.25      0.24       249\n",
      "\n",
      "avg / total       0.59      0.53      0.52      2750\n",
      "\n",
      "[[175   0   3  18   0   4   0   0  24   1  12]\n",
      " [  1 100   8 120   6   0   2   0   8   6  19]\n",
      " [  0   2 178   7  11   0   0   6  13   5  18]\n",
      " [  5  27   9 146   8   1   2   3  28   7  14]\n",
      " [  0   5  29  35  72   0   1   5  33  26  21]\n",
      " [  0   3  12   2   0 182   0   0  28   1  25]\n",
      " [  1   3  22  11   8   1  33   6  53  83  30]\n",
      " [  0   1  37   7   2   0   7 129  47  17  19]\n",
      " [  0   0   8   1   1   1   7   3 206   8  28]\n",
      " [  1   4   4  18   6   0   7   4  17 166  17]\n",
      " [  1   0  25   4   4   1   8  14 100  29  63]]\n"
     ]
    }
   ],
   "source": [
    "# Try naive bayes\n",
    "tic = time.time()\n",
    "gnb = GaussianNB()\n",
    "gnb.fit(X_train, y_train)\n",
    "gnb_y_pred = gnb.predict(X_test)\n",
    "toc = time.time()\n",
    "print('Time: ' + str(toc - tic) + ' seconds.' )\n",
    "print('Accuracty: ' + str(accuracy_score(y_test, gnb_y_pred)))\n",
    "print(classification_report(y_test, gnb_y_pred))\n",
    "print(confusion_matrix(y_test, gnb_y_pred))"
   ]
  },
  {
   "cell_type": "code",
   "execution_count": 108,
   "metadata": {},
   "outputs": [
    {
     "name": "stdout",
     "output_type": "stream",
     "text": [
      "Time: 18.598824977874756 seconds.\n",
      "Accuracty: 0.723636363636\n",
      "             precision    recall  f1-score   support\n",
      "\n",
      "       bags       0.88      0.92      0.90       237\n",
      "      coats       0.69      0.81      0.74       270\n",
      "    dresses       0.57      0.78      0.66       240\n",
      "    jackets       0.56      0.67      0.61       250\n",
      "     shirts       0.77      0.46      0.57       227\n",
      "      shoes       0.97      0.82      0.89       253\n",
      "     shorts       0.66      0.69      0.67       251\n",
      "     skirts       0.78      0.62      0.69       266\n",
      "   swimwear       0.75      0.86      0.80       263\n",
      "   trousers       0.70      0.73      0.71       244\n",
      "  underwear       0.82      0.59      0.68       249\n",
      "\n",
      "avg / total       0.74      0.72      0.72      2750\n",
      "\n",
      "[[219   0   1   2   2   3   1   2   4   0   3]\n",
      " [  5 220   3  26   7   0   0   2   1   5   1]\n",
      " [  0   8 187  13   6   1   7   8   4   5   1]\n",
      " [  3  50   7 167   1   1   8   3   4   6   0]\n",
      " [  3  19  32  28 104   1   9   4   5  14   8]\n",
      " [  7   3   5  11   1 207   3   2   7   3   4]\n",
      " [  3   5  14  11   2   0 173  12   7  24   0]\n",
      " [  1   4  46  13   2   0  22 165   5   6   2]\n",
      " [  3   0   5   3   2   1   5   3 225   6  10]\n",
      " [  2  10   6  13   2   0  25   4   2 177   3]\n",
      " [  2   2  20  12   6   0   9   6  38   8 146]]\n"
     ]
    }
   ],
   "source": [
    "# Try KNN\n",
    "tic = time.time()\n",
    "knn = neighbors.KNeighborsClassifier(n_neighbors=5)\n",
    "knn.fit(X_train, y_train)\n",
    "knn_y_pred = knn.predict(X_test)\n",
    "toc = time.time()\n",
    "\n",
    "print('Time: ' + str(toc - tic) + ' seconds.' )\n",
    "print('Accuracty: ' + str(accuracy_score(y_test, knn_y_pred)))\n",
    "print(classification_report(y_test, knn_y_pred))\n",
    "print(confusion_matrix(y_test, knn_y_pred))\n"
   ]
  },
  {
   "cell_type": "code",
   "execution_count": 109,
   "metadata": {},
   "outputs": [
    {
     "name": "stdout",
     "output_type": "stream",
     "text": [
      "Time: 5.286087989807129 seconds.\n",
      "Accuracty: 0.476727272727\n",
      "             precision    recall  f1-score   support\n",
      "\n",
      "       bags       0.69      0.68      0.68       237\n",
      "      coats       0.57      0.50      0.53       270\n",
      "    dresses       0.47      0.49      0.48       240\n",
      "    jackets       0.39      0.40      0.40       250\n",
      "     shirts       0.28      0.29      0.29       227\n",
      "      shoes       0.62      0.58      0.60       253\n",
      "     shorts       0.44      0.49      0.46       251\n",
      "     skirts       0.47      0.46      0.46       266\n",
      "   swimwear       0.52      0.50      0.51       263\n",
      "   trousers       0.40      0.41      0.40       244\n",
      "  underwear       0.43      0.43      0.43       249\n",
      "\n",
      "avg / total       0.48      0.48      0.48      2750\n",
      "\n",
      "[[160   8   6   6   6  18   6   6   9   1  11]\n",
      " [  7 136   9  44  21  11   6   7  11  12   6]\n",
      " [  4   6 118  10  22   7  11  20  11  12  19]\n",
      " [  9  33  12 101  25   5  18  15   7  20   5]\n",
      " [  6  13  16  18  66  10  19  18  11  31  19]\n",
      " [ 18   9  10  10   8 146   5   8  13  10  16]\n",
      " [  6   6  16  10  12   5 124  24  12  22  14]\n",
      " [  5  10  22  15  22   9  26 122  12   8  15]\n",
      " [  6   5  16  16  10   7  20  17 131  14  21]\n",
      " [  4  11  10  12  22  10  35  11  12  99  18]\n",
      " [  6   3  17  16  20   9  13  13  25  19 108]]\n"
     ]
    }
   ],
   "source": [
    "# Try decision tree, maybe random forest later\n",
    "tic = time.time()\n",
    "dt = DecisionTreeClassifier(random_state=1)\n",
    "dt.fit(X_train, y_train)\n",
    "dt_y_pred = dt.predict(X_test)\n",
    "toc = time.time()\n",
    "print('Time: ' + str(toc - tic) + ' seconds.' )\n",
    "print('Accuracty: ' + str(accuracy_score(y_test, dt_y_pred)))\n",
    "print(classification_report(y_test, dt_y_pred))\n",
    "print(confusion_matrix(y_test, dt_y_pred))"
   ]
  },
  {
   "cell_type": "code",
   "execution_count": 173,
   "metadata": {
    "scrolled": true
   },
   "outputs": [
    {
     "name": "stdout",
     "output_type": "stream",
     "text": [
      "Train on 8250 samples, validate on 2750 samples\n",
      "Epoch 1/100\n",
      "8250/8250 [==============================] - 1s - loss: 2.0036 - acc: 0.4864 - val_loss: 1.5529 - val_acc: 0.6491\n",
      "Epoch 2/100\n",
      "8250/8250 [==============================] - 0s - loss: 1.2848 - acc: 0.6762 - val_loss: 1.0972 - val_acc: 0.7102\n",
      "Epoch 3/100\n",
      "8250/8250 [==============================] - 0s - loss: 0.9847 - acc: 0.7372 - val_loss: 0.9054 - val_acc: 0.7589\n",
      "Epoch 4/100\n",
      "8250/8250 [==============================] - 0s - loss: 0.8352 - acc: 0.7714 - val_loss: 0.8029 - val_acc: 0.7789\n",
      "Epoch 5/100\n",
      "8250/8250 [==============================] - 0s - loss: 0.7462 - acc: 0.7919 - val_loss: 0.7383 - val_acc: 0.7949\n",
      "Epoch 6/100\n",
      "8250/8250 [==============================] - 0s - loss: 0.6841 - acc: 0.8055 - val_loss: 0.6945 - val_acc: 0.8029\n",
      "Epoch 7/100\n",
      "8250/8250 [==============================] - 0s - loss: 0.6367 - acc: 0.8159 - val_loss: 0.6668 - val_acc: 0.8098\n",
      "Epoch 8/100\n",
      "8250/8250 [==============================] - 0s - loss: 0.5997 - acc: 0.8316 - val_loss: 0.6361 - val_acc: 0.8182\n",
      "Epoch 9/100\n",
      "8250/8250 [==============================] - 0s - loss: 0.5707 - acc: 0.8342 - val_loss: 0.6243 - val_acc: 0.8240\n",
      "Epoch 10/100\n",
      "8250/8250 [==============================] - 0s - loss: 0.5430 - acc: 0.8424 - val_loss: 0.6058 - val_acc: 0.8265\n",
      "Epoch 11/100\n",
      "8250/8250 [==============================] - 0s - loss: 0.5215 - acc: 0.8487 - val_loss: 0.5978 - val_acc: 0.8258\n",
      "Epoch 12/100\n",
      "8250/8250 [==============================] - 0s - loss: 0.5021 - acc: 0.8554 - val_loss: 0.5950 - val_acc: 0.8269\n",
      "Epoch 13/100\n",
      "8250/8250 [==============================] - 0s - loss: 0.4850 - acc: 0.8589 - val_loss: 0.5848 - val_acc: 0.8324\n",
      "Epoch 14/100\n",
      "8250/8250 [==============================] - 0s - loss: 0.4689 - acc: 0.8633 - val_loss: 0.5756 - val_acc: 0.8371\n",
      "Epoch 15/100\n",
      "8250/8250 [==============================] - 0s - loss: 0.4568 - acc: 0.8667 - val_loss: 0.5740 - val_acc: 0.8349\n",
      "Epoch 16/100\n",
      "8250/8250 [==============================] - 0s - loss: 0.4448 - acc: 0.8688 - val_loss: 0.5669 - val_acc: 0.8353\n",
      "Epoch 17/100\n",
      "8250/8250 [==============================] - 0s - loss: 0.4336 - acc: 0.8732 - val_loss: 0.5600 - val_acc: 0.8396\n",
      "Epoch 18/100\n",
      "8250/8250 [==============================] - 0s - loss: 0.4227 - acc: 0.8748 - val_loss: 0.5568 - val_acc: 0.8407\n",
      "Epoch 19/100\n",
      "8250/8250 [==============================] - 0s - loss: 0.4136 - acc: 0.8782 - val_loss: 0.5558 - val_acc: 0.8411\n",
      "Epoch 20/100\n",
      "8250/8250 [==============================] - 0s - loss: 0.4042 - acc: 0.8792 - val_loss: 0.5489 - val_acc: 0.8433\n",
      "Epoch 21/100\n",
      "8250/8250 [==============================] - 0s - loss: 0.3958 - acc: 0.8827 - val_loss: 0.5526 - val_acc: 0.8422\n",
      "Epoch 22/100\n",
      "8250/8250 [==============================] - 0s - loss: 0.3891 - acc: 0.8863 - val_loss: 0.5479 - val_acc: 0.8425\n",
      "Epoch 23/100\n",
      "8250/8250 [==============================] - 0s - loss: 0.3812 - acc: 0.8862 - val_loss: 0.5616 - val_acc: 0.8491\n",
      "Epoch 24/100\n",
      "8250/8250 [==============================] - 0s - loss: 0.3736 - acc: 0.8872 - val_loss: 0.5472 - val_acc: 0.8447\n",
      "Epoch 25/100\n",
      "8250/8250 [==============================] - 0s - loss: 0.3669 - acc: 0.8902 - val_loss: 0.5480 - val_acc: 0.8484\n",
      "Epoch 26/100\n",
      "8250/8250 [==============================] - 0s - loss: 0.3588 - acc: 0.8956 - val_loss: 0.5514 - val_acc: 0.8433\n",
      "Epoch 27/100\n",
      "8250/8250 [==============================] - 0s - loss: 0.3542 - acc: 0.8950 - val_loss: 0.5523 - val_acc: 0.8429\n",
      "Epoch 28/100\n",
      "8250/8250 [==============================] - 0s - loss: 0.3482 - acc: 0.8942 - val_loss: 0.5478 - val_acc: 0.8440\n",
      "Epoch 29/100\n",
      "8250/8250 [==============================] - 0s - loss: 0.3420 - acc: 0.8979 - val_loss: 0.5450 - val_acc: 0.8487\n",
      "Epoch 30/100\n",
      "8250/8250 [==============================] - 0s - loss: 0.3356 - acc: 0.9021 - val_loss: 0.5444 - val_acc: 0.8465\n",
      "Epoch 31/100\n",
      "8250/8250 [==============================] - 0s - loss: 0.3303 - acc: 0.9030 - val_loss: 0.5488 - val_acc: 0.8480\n",
      "Epoch 32/100\n",
      "8250/8250 [==============================] - 0s - loss: 0.3276 - acc: 0.9011 - val_loss: 0.5477 - val_acc: 0.8487\n",
      "Epoch 33/100\n",
      "8250/8250 [==============================] - 0s - loss: 0.3189 - acc: 0.9070 - val_loss: 0.5421 - val_acc: 0.8473\n",
      "Epoch 34/100\n",
      "8250/8250 [==============================] - 0s - loss: 0.3156 - acc: 0.9065 - val_loss: 0.5493 - val_acc: 0.8447\n",
      "Epoch 35/100\n",
      "8250/8250 [==============================] - 0s - loss: 0.3108 - acc: 0.9076 - val_loss: 0.5494 - val_acc: 0.8440\n",
      "Epoch 36/100\n",
      "8250/8250 [==============================] - 0s - loss: 0.3077 - acc: 0.9098 - val_loss: 0.5487 - val_acc: 0.8469\n",
      "Epoch 37/100\n",
      "8250/8250 [==============================] - 0s - loss: 0.3022 - acc: 0.9116 - val_loss: 0.5509 - val_acc: 0.8447\n",
      "Epoch 38/100\n",
      "8250/8250 [==============================] - 0s - loss: 0.2989 - acc: 0.9130 - val_loss: 0.5470 - val_acc: 0.8495\n",
      "Epoch 39/100\n",
      "8250/8250 [==============================] - 0s - loss: 0.2921 - acc: 0.9147 - val_loss: 0.5486 - val_acc: 0.8491\n",
      "Epoch 40/100\n",
      "8250/8250 [==============================] - 0s - loss: 0.2882 - acc: 0.9160 - val_loss: 0.5451 - val_acc: 0.8513\n",
      "Epoch 41/100\n",
      "8250/8250 [==============================] - 0s - loss: 0.2866 - acc: 0.9165 - val_loss: 0.5610 - val_acc: 0.8495\n",
      "Epoch 42/100\n",
      "8250/8250 [==============================] - 0s - loss: 0.2811 - acc: 0.9194 - val_loss: 0.5540 - val_acc: 0.8480\n",
      "Epoch 43/100\n",
      "8250/8250 [==============================] - 0s - loss: 0.2759 - acc: 0.9225 - val_loss: 0.5484 - val_acc: 0.8524\n",
      "Epoch 44/100\n",
      "8250/8250 [==============================] - 0s - loss: 0.2732 - acc: 0.9221 - val_loss: 0.5547 - val_acc: 0.8498\n",
      "Epoch 45/100\n",
      "8250/8250 [==============================] - 0s - loss: 0.2701 - acc: 0.9201 - val_loss: 0.5539 - val_acc: 0.8491\n",
      "Epoch 46/100\n",
      "8250/8250 [==============================] - 0s - loss: 0.2664 - acc: 0.9216 - val_loss: 0.5780 - val_acc: 0.8415\n",
      "Epoch 47/100\n",
      "8250/8250 [==============================] - 0s - loss: 0.2627 - acc: 0.9245 - val_loss: 0.5624 - val_acc: 0.8502\n",
      "Epoch 48/100\n",
      "8250/8250 [==============================] - 0s - loss: 0.2578 - acc: 0.9278 - val_loss: 0.5617 - val_acc: 0.8487\n",
      "Epoch 49/100\n",
      "8250/8250 [==============================] - 0s - loss: 0.2565 - acc: 0.9248 - val_loss: 0.5725 - val_acc: 0.8495\n",
      "Epoch 50/100\n",
      "8250/8250 [==============================] - 0s - loss: 0.2516 - acc: 0.9284 - val_loss: 0.5586 - val_acc: 0.8484\n",
      "Epoch 51/100\n",
      "8250/8250 [==============================] - 0s - loss: 0.2489 - acc: 0.9305 - val_loss: 0.5586 - val_acc: 0.8473\n",
      "Epoch 52/100\n",
      "8250/8250 [==============================] - 0s - loss: 0.2438 - acc: 0.9324 - val_loss: 0.5719 - val_acc: 0.8498\n",
      "Epoch 53/100\n",
      "8250/8250 [==============================] - 0s - loss: 0.2414 - acc: 0.9342 - val_loss: 0.5637 - val_acc: 0.8516\n",
      "Epoch 54/100\n",
      "8250/8250 [==============================] - 0s - loss: 0.2383 - acc: 0.9327 - val_loss: 0.5695 - val_acc: 0.8516\n",
      "Epoch 55/100\n",
      "8250/8250 [==============================] - 0s - loss: 0.2344 - acc: 0.9347 - val_loss: 0.5660 - val_acc: 0.8484\n",
      "Epoch 56/100\n",
      "8250/8250 [==============================] - 0s - loss: 0.2325 - acc: 0.9344 - val_loss: 0.5700 - val_acc: 0.8484\n",
      "Epoch 57/100\n",
      "8250/8250 [==============================] - 0s - loss: 0.2298 - acc: 0.9365 - val_loss: 0.5727 - val_acc: 0.8516\n",
      "Epoch 58/100\n",
      "8250/8250 [==============================] - 0s - loss: 0.2283 - acc: 0.9359 - val_loss: 0.5820 - val_acc: 0.8502\n",
      "Epoch 59/100\n",
      "8250/8250 [==============================] - 0s - loss: 0.2231 - acc: 0.9390 - val_loss: 0.5711 - val_acc: 0.8480\n",
      "Epoch 60/100\n",
      "8250/8250 [==============================] - 0s - loss: 0.2217 - acc: 0.9385 - val_loss: 0.5740 - val_acc: 0.8542\n",
      "Epoch 61/100\n",
      "8250/8250 [==============================] - 0s - loss: 0.2168 - acc: 0.9405 - val_loss: 0.5800 - val_acc: 0.8491\n",
      "Epoch 62/100\n",
      "8250/8250 [==============================] - 0s - loss: 0.2137 - acc: 0.9432 - val_loss: 0.5769 - val_acc: 0.8509\n",
      "Epoch 63/100\n",
      "8250/8250 [==============================] - 0s - loss: 0.2127 - acc: 0.9401 - val_loss: 0.5790 - val_acc: 0.8487\n",
      "Epoch 64/100\n",
      "8250/8250 [==============================] - 0s - loss: 0.2122 - acc: 0.9438 - val_loss: 0.5841 - val_acc: 0.8527\n",
      "Epoch 65/100\n"
     ]
    },
    {
     "name": "stdout",
     "output_type": "stream",
     "text": [
      "8250/8250 [==============================] - 0s - loss: 0.2061 - acc: 0.9434 - val_loss: 0.5829 - val_acc: 0.8484\n",
      "Epoch 66/100\n",
      "8250/8250 [==============================] - 0s - loss: 0.2049 - acc: 0.9433 - val_loss: 0.5893 - val_acc: 0.8553\n",
      "Epoch 67/100\n",
      "8250/8250 [==============================] - 0s - loss: 0.2002 - acc: 0.9468 - val_loss: 0.5910 - val_acc: 0.8476\n",
      "Epoch 68/100\n",
      "8250/8250 [==============================] - 0s - loss: 0.1999 - acc: 0.9450 - val_loss: 0.5916 - val_acc: 0.8473\n",
      "Epoch 69/100\n",
      "8250/8250 [==============================] - 0s - loss: 0.1957 - acc: 0.9474 - val_loss: 0.5914 - val_acc: 0.8513\n",
      "Epoch 70/100\n",
      "8250/8250 [==============================] - 0s - loss: 0.1921 - acc: 0.9498 - val_loss: 0.5980 - val_acc: 0.8538\n",
      "Epoch 71/100\n",
      "8250/8250 [==============================] - 0s - loss: 0.1914 - acc: 0.9472 - val_loss: 0.5974 - val_acc: 0.8549\n",
      "Epoch 72/100\n",
      "8250/8250 [==============================] - 0s - loss: 0.1901 - acc: 0.9468 - val_loss: 0.6002 - val_acc: 0.8505\n",
      "Epoch 73/100\n",
      "8250/8250 [==============================] - 0s - loss: 0.1888 - acc: 0.9490 - val_loss: 0.5957 - val_acc: 0.8513\n",
      "Epoch 74/100\n",
      "8250/8250 [==============================] - 0s - loss: 0.1848 - acc: 0.9510 - val_loss: 0.5961 - val_acc: 0.8520\n",
      "Epoch 75/100\n",
      "8250/8250 [==============================] - 0s - loss: 0.1809 - acc: 0.9538 - val_loss: 0.6044 - val_acc: 0.8491\n",
      "Epoch 76/100\n",
      "8250/8250 [==============================] - 0s - loss: 0.1827 - acc: 0.9496 - val_loss: 0.6096 - val_acc: 0.8520\n",
      "Epoch 77/100\n",
      "8250/8250 [==============================] - 1s - loss: 0.1784 - acc: 0.9536 - val_loss: 0.6113 - val_acc: 0.8516\n",
      "Epoch 78/100\n",
      "8250/8250 [==============================] - 0s - loss: 0.1761 - acc: 0.9531 - val_loss: 0.6060 - val_acc: 0.8495\n",
      "Epoch 79/100\n",
      "8250/8250 [==============================] - 0s - loss: 0.1712 - acc: 0.9531 - val_loss: 0.6159 - val_acc: 0.8484\n",
      "Epoch 80/100\n",
      "8250/8250 [==============================] - 0s - loss: 0.1721 - acc: 0.9532 - val_loss: 0.6141 - val_acc: 0.8502\n",
      "Epoch 81/100\n",
      "8250/8250 [==============================] - 0s - loss: 0.1693 - acc: 0.9552 - val_loss: 0.6126 - val_acc: 0.8520\n",
      "Epoch 82/100\n",
      "8250/8250 [==============================] - 0s - loss: 0.1657 - acc: 0.9560 - val_loss: 0.6053 - val_acc: 0.8527\n",
      "Epoch 83/100\n",
      "8250/8250 [==============================] - 0s - loss: 0.1623 - acc: 0.9581 - val_loss: 0.6111 - val_acc: 0.8524\n",
      "Epoch 84/100\n",
      "8250/8250 [==============================] - 0s - loss: 0.1612 - acc: 0.9585 - val_loss: 0.6195 - val_acc: 0.8556\n",
      "Epoch 85/100\n",
      "8250/8250 [==============================] - 0s - loss: 0.1594 - acc: 0.9585 - val_loss: 0.6160 - val_acc: 0.8487\n",
      "Epoch 86/100\n",
      "8250/8250 [==============================] - 0s - loss: 0.1578 - acc: 0.9590 - val_loss: 0.6203 - val_acc: 0.8513\n",
      "Epoch 87/100\n",
      "8250/8250 [==============================] - 0s - loss: 0.1554 - acc: 0.9598 - val_loss: 0.6136 - val_acc: 0.8542\n",
      "Epoch 88/100\n",
      "8250/8250 [==============================] - 0s - loss: 0.1544 - acc: 0.9578 - val_loss: 0.6234 - val_acc: 0.8513\n",
      "Epoch 89/100\n",
      "8250/8250 [==============================] - 0s - loss: 0.1526 - acc: 0.9618 - val_loss: 0.6269 - val_acc: 0.8564\n",
      "Epoch 90/100\n",
      "8250/8250 [==============================] - 0s - loss: 0.1485 - acc: 0.9617 - val_loss: 0.6245 - val_acc: 0.8509\n",
      "Epoch 91/100\n",
      "8250/8250 [==============================] - 0s - loss: 0.1473 - acc: 0.9606 - val_loss: 0.6270 - val_acc: 0.8509\n",
      "Epoch 92/100\n",
      "8250/8250 [==============================] - 0s - loss: 0.1448 - acc: 0.9625 - val_loss: 0.6313 - val_acc: 0.8545\n",
      "Epoch 93/100\n",
      "8250/8250 [==============================] - 0s - loss: 0.1426 - acc: 0.9630 - val_loss: 0.6464 - val_acc: 0.8476\n",
      "Epoch 94/100\n",
      "8250/8250 [==============================] - 0s - loss: 0.1426 - acc: 0.9629 - val_loss: 0.6325 - val_acc: 0.8513\n",
      "Epoch 95/100\n",
      "8250/8250 [==============================] - 0s - loss: 0.1424 - acc: 0.9617 - val_loss: 0.6347 - val_acc: 0.8527\n",
      "Epoch 96/100\n",
      "8250/8250 [==============================] - 0s - loss: 0.1378 - acc: 0.9659 - val_loss: 0.6450 - val_acc: 0.8516\n",
      "Epoch 97/100\n",
      "8250/8250 [==============================] - 0s - loss: 0.1363 - acc: 0.9652 - val_loss: 0.6342 - val_acc: 0.8516\n",
      "Epoch 98/100\n",
      "8250/8250 [==============================] - 0s - loss: 0.1336 - acc: 0.9679 - val_loss: 0.6530 - val_acc: 0.8451\n",
      "Epoch 99/100\n",
      "8250/8250 [==============================] - 0s - loss: 0.1311 - acc: 0.9682 - val_loss: 0.6499 - val_acc: 0.8473\n",
      "Epoch 100/100\n",
      "8250/8250 [==============================] - 0s - loss: 0.1307 - acc: 0.9659 - val_loss: 0.6409 - val_acc: 0.8531\n"
     ]
    },
    {
     "data": {
      "text/plain": [
       "<keras.callbacks.History at 0x127854a90>"
      ]
     },
     "execution_count": 173,
     "metadata": {},
     "output_type": "execute_result"
    }
   ],
   "source": [
    "# Try neural network\n",
    "\n",
    "# Reshape data\n",
    "# Data to numpy arrays\n",
    "npy_X_test = X_test.values\n",
    "npy_X_train = X_train.values\n",
    "\n",
    "# One-hot encode labels\n",
    "encoder = LabelEncoder()\n",
    "encoder.fit(y)\n",
    "encoded_y_train = encoder.transform(y_train)\n",
    "encoded_y_test = encoder.transform(y_test)\n",
    "onehot_y_train = np_utils.to_categorical(encoded_y_train)\n",
    "onehot_y_test = np_utils.to_categorical(encoded_y_test)\n",
    "\n",
    "# Build model\n",
    "nn = Sequential()\n",
    "nn.add(Dense(100, input_dim=300, activation='relu'))\n",
    "nn.add(Dense(11, activation='softmax'))\n",
    "nn.compile(loss='categorical_crossentropy', optimizer='adam', metrics=['accuracy'])\n",
    "\n",
    "# Train & Test\n",
    "nn.fit(npy_X_train, onehot_y_train,\n",
    "       validation_data=(npy_X_test, onehot_y_test),\n",
    "       epochs=100, batch_size=50)"
   ]
  },
  {
   "cell_type": "markdown",
   "metadata": {},
   "source": [
    "#### From image alone"
   ]
  },
  {
   "cell_type": "code",
   "execution_count": 174,
   "metadata": {
    "collapsed": true
   },
   "outputs": [],
   "source": [
    "X = allhand_image\n",
    "y = allhand_id.hand\n",
    "X_train, X_test, y_train, y_test = train_test_split(X,y,random_state=0)"
   ]
  },
  {
   "cell_type": "code",
   "execution_count": 175,
   "metadata": {},
   "outputs": [
    {
     "name": "stdout",
     "output_type": "stream",
     "text": [
      "Time: 41.384730100631714 seconds.\n",
      "Accuracty: 0.840727272727\n",
      "             precision    recall  f1-score   support\n",
      "\n",
      "       bags       1.00      1.00      1.00       237\n",
      "      coats       0.79      0.84      0.81       270\n",
      "    dresses       0.76      0.85      0.80       240\n",
      "    jackets       0.78      0.77      0.78       250\n",
      "     shirts       0.76      0.70      0.73       227\n",
      "      shoes       1.00      1.00      1.00       253\n",
      "     shorts       0.76      0.80      0.78       251\n",
      "     skirts       0.84      0.82      0.83       266\n",
      "   swimwear       0.85      0.77      0.81       263\n",
      "   trousers       0.87      0.93      0.90       244\n",
      "  underwear       0.84      0.78      0.81       249\n",
      "\n",
      "avg / total       0.84      0.84      0.84      2750\n",
      "\n",
      "[[236   0   0   0   0   0   0   1   0   0   0]\n",
      " [  0 226   6  28   5   0   0   4   0   1   0]\n",
      " [  0   5 204   0   6   0  12   4   4   3   2]\n",
      " [  0  37   1 193  16   0   2   0   0   1   0]\n",
      " [  0   8   7  20 159   0   6   1   6  17   3]\n",
      " [  0   0   0   0   0 253   0   0   0   0   0]\n",
      " [  0   0   8   2   4   0 201  20   7   4   5]\n",
      " [  0   2  19   1   2   0  17 217   1   5   2]\n",
      " [  0   1   9   1   5   0  16   4 203   0  24]\n",
      " [  0   3   3   1   4   0   1   5   1 226   0]\n",
      " [  0   4  13   2   7   0   8   2  16   3 194]]\n"
     ]
    }
   ],
   "source": [
    "# Try logistic regression\n",
    "tic = time.time()\n",
    "lr = LogisticRegression(random_state=1)\n",
    "lr.fit(X, y)\n",
    "lr_y_pred = lr.predict(X_test)\n",
    "toc = time.time()\n",
    "print('Time: ' + str(toc - tic) + ' seconds.' )\n",
    "print('Accuracty: ' + str(accuracy_score(y_test, lr_y_pred)))\n",
    "print(classification_report(y_test, lr_y_pred))\n",
    "print(confusion_matrix(y_test, lr_y_pred))"
   ]
  },
  {
   "cell_type": "code",
   "execution_count": 176,
   "metadata": {},
   "outputs": [
    {
     "name": "stdout",
     "output_type": "stream",
     "text": [
      "Time: 36.4244019985199 seconds.\n",
      "Accuracty: 0.729818181818\n",
      "             precision    recall  f1-score   support\n",
      "\n",
      "       bags       0.96      0.95      0.96       237\n",
      "      coats       0.65      0.79      0.71       270\n",
      "    dresses       0.69      0.64      0.67       240\n",
      "    jackets       0.75      0.46      0.57       250\n",
      "     shirts       0.59      0.59      0.59       227\n",
      "      shoes       0.95      0.97      0.96       253\n",
      "     shorts       0.68      0.71      0.69       251\n",
      "     skirts       0.55      0.78      0.65       266\n",
      "   swimwear       0.76      0.68      0.72       263\n",
      "   trousers       0.77      0.87      0.82       244\n",
      "  underwear       0.80      0.59      0.68       249\n",
      "\n",
      "avg / total       0.74      0.73      0.73      2750\n",
      "\n",
      "[[225   2   0   1   2   2   0   2   2   0   1]\n",
      " [  2 213   6  19  18   1   0   7   0   3   1]\n",
      " [  1   6 154   2   9   1   9  40   9   6   3]\n",
      " [  0  77   1 114  41   0   8   5   0   4   0]\n",
      " [  1  20   6  11 133   0  10  13   3  21   9]\n",
      " [  0   0   3   0   0 245   0   2   2   0   1]\n",
      " [  0   2   7   0   3   0 178  47   4   9   1]\n",
      " [  1   1  17   1   6   2  16 208   2  11   1]\n",
      " [  3   0  13   0   2   2  23  22 178   1  19]\n",
      " [  0   3   7   0   4   0   2  15   1 212   0]\n",
      " [  1   4   9   3   7   4  17  17  32   8 147]]\n"
     ]
    }
   ],
   "source": [
    "# Try linear SVM\n",
    "tic = time.time()\n",
    "svc = LinearSVC(random_state=1)\n",
    "svc.fit(X_train, y_train)\n",
    "svc_y_pred = svc.predict(X_test)\n",
    "toc = time.time()\n",
    "print('Time: ' + str(toc - tic) + ' seconds.' )\n",
    "print('Accuracty: ' + str(accuracy_score(y_test, svc_y_pred)))\n",
    "print(classification_report(y_test, svc_y_pred))\n",
    "print(confusion_matrix(y_test, svc_y_pred))"
   ]
  },
  {
   "cell_type": "code",
   "execution_count": 177,
   "metadata": {},
   "outputs": [
    {
     "name": "stdout",
     "output_type": "stream",
     "text": [
      "Time: 0.3433060646057129 seconds.\n",
      "Accuracty: 0.604727272727\n",
      "             precision    recall  f1-score   support\n",
      "\n",
      "       bags       0.68      0.84      0.75       237\n",
      "      coats       0.66      0.50      0.57       270\n",
      "    dresses       0.66      0.51      0.58       240\n",
      "    jackets       0.56      0.61      0.59       250\n",
      "     shirts       0.67      0.48      0.56       227\n",
      "      shoes       0.85      0.84      0.85       253\n",
      "     shorts       0.38      0.80      0.52       251\n",
      "     skirts       0.83      0.52      0.64       266\n",
      "   swimwear       0.71      0.46      0.56       263\n",
      "   trousers       0.79      0.71      0.75       244\n",
      "  underwear       0.33      0.41      0.36       249\n",
      "\n",
      "avg / total       0.65      0.60      0.61      2750\n",
      "\n",
      "[[198   0   0   1   5   5   5   4   1   0  18]\n",
      " [ 12 134   2  87   4   2   8   0   0   6  15]\n",
      " [ 13   4 122   2   3   5  56   4   1   6  24]\n",
      " [  4  42   0 153  18   0  18   2   0   4   9]\n",
      " [  9  12   8  20 109   1  34   2   3  15  14]\n",
      " [  3   3   0   0   9 212   3   1   3   0  19]\n",
      " [  2   2   4   0   1   1 202   7   2   5  25]\n",
      " [ 12   2  21   1   1   1  64 137   0   7  20]\n",
      " [ 14   0   9   0   5   6  73   0 121   0  35]\n",
      " [  4   3   7   4   4   5  10   6   1 174  26]\n",
      " [ 20   2  11   3   4  10  54   2  39   3 101]]\n"
     ]
    }
   ],
   "source": [
    "# Try naive bayes\n",
    "tic = time.time()\n",
    "gnb = GaussianNB()\n",
    "gnb.fit(X_train, y_train)\n",
    "gnb_y_pred = gnb.predict(X_test)\n",
    "toc = time.time()\n",
    "print('Time: ' + str(toc - tic) + ' seconds.' )\n",
    "print('Accuracty: ' + str(accuracy_score(y_test, gnb_y_pred)))\n",
    "print(classification_report(y_test, gnb_y_pred))\n",
    "print(confusion_matrix(y_test, gnb_y_pred))"
   ]
  },
  {
   "cell_type": "code",
   "execution_count": 178,
   "metadata": {},
   "outputs": [
    {
     "name": "stdout",
     "output_type": "stream",
     "text": [
      "Time: 14.676937818527222 seconds.\n",
      "Accuracty: 0.743272727273\n",
      "             precision    recall  f1-score   support\n",
      "\n",
      "       bags       0.95      0.96      0.96       237\n",
      "      coats       0.69      0.70      0.70       270\n",
      "    dresses       0.59      0.73      0.65       240\n",
      "    jackets       0.64      0.62      0.63       250\n",
      "     shirts       0.67      0.60      0.63       227\n",
      "      shoes       0.98      0.97      0.97       253\n",
      "     shorts       0.63      0.81      0.71       251\n",
      "     skirts       0.67      0.59      0.63       266\n",
      "   swimwear       0.81      0.69      0.74       263\n",
      "   trousers       0.85      0.83      0.84       244\n",
      "  underwear       0.78      0.68      0.73       249\n",
      "\n",
      "avg / total       0.75      0.74      0.74      2750\n",
      "\n",
      "[[227   2   1   0   0   1   0   3   0   2   1]\n",
      " [  1 189   7  55   8   0   0   9   0   1   0]\n",
      " [  2   4 176   5   7   1  17  21   5   1   1]\n",
      " [  0  55   6 155  30   0   4   0   0   0   0]\n",
      " [  0  11  20  25 137   0   5   8   2  13   6]\n",
      " [  4   0   1   0   1 246   0   0   0   0   1]\n",
      " [  0   0  11   0   5   0 203  20   3   5   4]\n",
      " [  1   1  46   0   3   0  44 158   3   8   2]\n",
      " [  1   2  11   0   3   2  27   5 181   0  31]\n",
      " [  0   4   9   3   3   0  11  10   1 202   1]\n",
      " [  2   4  12   1   9   2  12   2  29   6 170]]\n"
     ]
    }
   ],
   "source": [
    "# Try KNN\n",
    "tic = time.time()\n",
    "knn = neighbors.KNeighborsClassifier(n_neighbors=5)\n",
    "knn.fit(X_train, y_train)\n",
    "knn_y_pred = knn.predict(X_test)\n",
    "toc = time.time()\n",
    "\n",
    "print('Time: ' + str(toc - tic) + ' seconds.' )\n",
    "print('Accuracty: ' + str(accuracy_score(y_test, knn_y_pred)))\n",
    "print(classification_report(y_test, knn_y_pred))\n",
    "print(confusion_matrix(y_test, knn_y_pred))"
   ]
  },
  {
   "cell_type": "code",
   "execution_count": 179,
   "metadata": {},
   "outputs": [
    {
     "name": "stdout",
     "output_type": "stream",
     "text": [
      "Time: 5.425737142562866 seconds.\n",
      "Accuracty: 0.585090909091\n",
      "             precision    recall  f1-score   support\n",
      "\n",
      "       bags       0.89      0.88      0.88       237\n",
      "      coats       0.53      0.54      0.54       270\n",
      "    dresses       0.49      0.47      0.48       240\n",
      "    jackets       0.47      0.46      0.46       250\n",
      "     shirts       0.39      0.41      0.40       227\n",
      "      shoes       0.92      0.92      0.92       253\n",
      "     shorts       0.50      0.57      0.53       251\n",
      "     skirts       0.52      0.50      0.51       266\n",
      "   swimwear       0.56      0.54      0.55       263\n",
      "   trousers       0.70      0.67      0.68       244\n",
      "  underwear       0.50      0.48      0.49       249\n",
      "\n",
      "avg / total       0.59      0.59      0.59      2750\n",
      "\n",
      "[[208   3   0   1   4   4   1   3   4   2   7]\n",
      " [  1 145  13  62  24   2   7   5   0   6   5]\n",
      " [  6  11 114  10  16   2  17  33  13   7  11]\n",
      " [  0  67   6 115  38   0   7   2   0  11   4]\n",
      " [  3  22  16  34  92   3  11  11   8  14  13]\n",
      " [  2   1   2   1   3 233   2   4   0   1   4]\n",
      " [  1   1  14   5  10   0 142  36  20  14   8]\n",
      " [  6   5  35   5  17   2  32 134   9   9  12]\n",
      " [  2   3  12   3   8   1  33   9 143   1  48]\n",
      " [  0   8   5   8  12   3  21   9   8 163   7]\n",
      " [  5   6  18   1  12   4  13  13  52   5 120]]\n"
     ]
    }
   ],
   "source": [
    "# Try decision tree, maybe random forest later\n",
    "tic = time.time()\n",
    "dt = DecisionTreeClassifier(random_state=1)\n",
    "dt.fit(X_train, y_train)\n",
    "dt_y_pred = dt.predict(X_test)\n",
    "toc = time.time()\n",
    "print('Time: ' + str(toc - tic) + ' seconds.' )\n",
    "print('Accuracty: ' + str(accuracy_score(y_test, dt_y_pred)))\n",
    "print(classification_report(y_test, dt_y_pred))\n",
    "print(confusion_matrix(y_test, dt_y_pred))"
   ]
  },
  {
   "cell_type": "code",
   "execution_count": 180,
   "metadata": {},
   "outputs": [
    {
     "name": "stdout",
     "output_type": "stream",
     "text": [
      "Train on 8250 samples, validate on 2750 samples\n",
      "Epoch 1/100\n",
      "8250/8250 [==============================] - 1s - loss: 1.8128 - acc: 0.5807 - val_loss: 0.9167 - val_acc: 0.7105\n",
      "Epoch 2/100\n",
      "8250/8250 [==============================] - 1s - loss: 0.6866 - acc: 0.7762 - val_loss: 0.7979 - val_acc: 0.7455\n",
      "Epoch 3/100\n",
      "8250/8250 [==============================] - 0s - loss: 0.5268 - acc: 0.8205 - val_loss: 0.7636 - val_acc: 0.7582\n",
      "Epoch 4/100\n",
      "8250/8250 [==============================] - 0s - loss: 0.4387 - acc: 0.8524 - val_loss: 0.7738 - val_acc: 0.7567\n",
      "Epoch 5/100\n",
      "8250/8250 [==============================] - 0s - loss: 0.3716 - acc: 0.8768 - val_loss: 0.7833 - val_acc: 0.7560\n",
      "Epoch 6/100\n",
      "8250/8250 [==============================] - 0s - loss: 0.3205 - acc: 0.8933 - val_loss: 0.8109 - val_acc: 0.7545\n",
      "Epoch 7/100\n",
      "8250/8250 [==============================] - 0s - loss: 0.2751 - acc: 0.9122 - val_loss: 0.8137 - val_acc: 0.7651\n",
      "Epoch 8/100\n",
      "8250/8250 [==============================] - 0s - loss: 0.2351 - acc: 0.9280 - val_loss: 0.8225 - val_acc: 0.7669\n",
      "Epoch 9/100\n",
      "8250/8250 [==============================] - 0s - loss: 0.1921 - acc: 0.9462 - val_loss: 0.8609 - val_acc: 0.7596\n",
      "Epoch 10/100\n",
      "8250/8250 [==============================] - 0s - loss: 0.1661 - acc: 0.9559 - val_loss: 0.8905 - val_acc: 0.7633\n",
      "Epoch 11/100\n",
      "8250/8250 [==============================] - 0s - loss: 0.1367 - acc: 0.9670 - val_loss: 0.9017 - val_acc: 0.7604\n",
      "Epoch 12/100\n",
      "8250/8250 [==============================] - 0s - loss: 0.1125 - acc: 0.9744 - val_loss: 0.9332 - val_acc: 0.7615\n",
      "Epoch 13/100\n",
      "8250/8250 [==============================] - 0s - loss: 0.0912 - acc: 0.9823 - val_loss: 0.9764 - val_acc: 0.7575\n",
      "Epoch 14/100\n",
      "8250/8250 [==============================] - 0s - loss: 0.0769 - acc: 0.9881 - val_loss: 0.9961 - val_acc: 0.7633\n",
      "Epoch 15/100\n",
      "8250/8250 [==============================] - 0s - loss: 0.0617 - acc: 0.9926 - val_loss: 1.0191 - val_acc: 0.7593\n",
      "Epoch 16/100\n",
      "8250/8250 [==============================] - 0s - loss: 0.0493 - acc: 0.9961 - val_loss: 1.0522 - val_acc: 0.7640\n",
      "Epoch 17/100\n",
      "8250/8250 [==============================] - 0s - loss: 0.0422 - acc: 0.9960 - val_loss: 1.0979 - val_acc: 0.7640\n",
      "Epoch 18/100\n",
      "8250/8250 [==============================] - 0s - loss: 0.0341 - acc: 0.9981 - val_loss: 1.1108 - val_acc: 0.7647\n",
      "Epoch 19/100\n",
      "8250/8250 [==============================] - 0s - loss: 0.0271 - acc: 0.9985 - val_loss: 1.1228 - val_acc: 0.7662\n",
      "Epoch 20/100\n",
      "8250/8250 [==============================] - 0s - loss: 0.0222 - acc: 0.9993 - val_loss: 1.1528 - val_acc: 0.7651\n",
      "Epoch 21/100\n",
      "8250/8250 [==============================] - 0s - loss: 0.0193 - acc: 0.9995 - val_loss: 1.1838 - val_acc: 0.7702\n",
      "Epoch 22/100\n",
      "8250/8250 [==============================] - 0s - loss: 0.0155 - acc: 0.9999 - val_loss: 1.2032 - val_acc: 0.7705\n",
      "Epoch 23/100\n",
      "8250/8250 [==============================] - 0s - loss: 0.0131 - acc: 0.9998 - val_loss: 1.2279 - val_acc: 0.7684\n",
      "Epoch 24/100\n",
      "8250/8250 [==============================] - 0s - loss: 0.0225 - acc: 0.9959 - val_loss: 1.2604 - val_acc: 0.7636\n",
      "Epoch 25/100\n",
      "8250/8250 [==============================] - 0s - loss: 0.0178 - acc: 0.9976 - val_loss: 1.3017 - val_acc: 0.7589\n",
      "Epoch 26/100\n",
      "8250/8250 [==============================] - 0s - loss: 0.0150 - acc: 0.9984 - val_loss: 1.3070 - val_acc: 0.7687\n",
      "Epoch 27/100\n",
      "8250/8250 [==============================] - 0s - loss: 0.0284 - acc: 0.9935 - val_loss: 1.3726 - val_acc: 0.7564\n",
      "Epoch 28/100\n",
      "8250/8250 [==============================] - 0s - loss: 0.0581 - acc: 0.9863 - val_loss: 1.4491 - val_acc: 0.7473\n",
      "Epoch 29/100\n",
      "8250/8250 [==============================] - 0s - loss: 0.0808 - acc: 0.9737 - val_loss: 1.4518 - val_acc: 0.7505\n",
      "Epoch 30/100\n",
      "8250/8250 [==============================] - ETA: 0s - loss: 0.0469 - acc: 0.987 - 0s - loss: 0.0464 - acc: 0.9875 - val_loss: 1.4405 - val_acc: 0.7564\n",
      "Epoch 31/100\n",
      "8250/8250 [==============================] - 0s - loss: 0.0239 - acc: 0.9965 - val_loss: 1.4489 - val_acc: 0.7644\n",
      "Epoch 32/100\n",
      "8250/8250 [==============================] - 0s - loss: 0.0127 - acc: 0.9983 - val_loss: 1.4545 - val_acc: 0.7684\n",
      "Epoch 33/100\n",
      "8250/8250 [==============================] - 0s - loss: 0.0119 - acc: 0.9985 - val_loss: 1.4919 - val_acc: 0.7607\n",
      "Epoch 34/100\n",
      "8250/8250 [==============================] - 0s - loss: 0.0043 - acc: 1.0000 - val_loss: 1.4649 - val_acc: 0.7651\n",
      "Epoch 35/100\n",
      "8250/8250 [==============================] - 0s - loss: 0.0032 - acc: 1.0000 - val_loss: 1.4755 - val_acc: 0.7644\n",
      "Epoch 36/100\n",
      "8250/8250 [==============================] - 0s - loss: 0.0028 - acc: 1.0000 - val_loss: 1.4834 - val_acc: 0.7647\n",
      "Epoch 37/100\n",
      "8250/8250 [==============================] - 0s - loss: 0.0025 - acc: 1.0000 - val_loss: 1.4899 - val_acc: 0.7640\n",
      "Epoch 38/100\n",
      "8250/8250 [==============================] - 0s - loss: 0.0023 - acc: 1.0000 - val_loss: 1.4973 - val_acc: 0.7636\n",
      "Epoch 39/100\n",
      "8250/8250 [==============================] - 0s - loss: 0.0021 - acc: 1.0000 - val_loss: 1.5097 - val_acc: 0.7655\n",
      "Epoch 40/100\n",
      "8250/8250 [==============================] - 0s - loss: 0.0019 - acc: 1.0000 - val_loss: 1.5125 - val_acc: 0.7647\n",
      "Epoch 41/100\n",
      "8250/8250 [==============================] - 0s - loss: 0.0018 - acc: 1.0000 - val_loss: 1.5192 - val_acc: 0.7622\n",
      "Epoch 42/100\n",
      "8250/8250 [==============================] - 0s - loss: 0.0016 - acc: 1.0000 - val_loss: 1.5294 - val_acc: 0.7622\n",
      "Epoch 43/100\n",
      "8250/8250 [==============================] - 0s - loss: 0.0015 - acc: 1.0000 - val_loss: 1.5363 - val_acc: 0.7633\n",
      "Epoch 44/100\n",
      "8250/8250 [==============================] - 0s - loss: 0.0014 - acc: 1.0000 - val_loss: 1.5420 - val_acc: 0.7629\n",
      "Epoch 45/100\n",
      "8250/8250 [==============================] - 0s - loss: 0.0013 - acc: 1.0000 - val_loss: 1.5521 - val_acc: 0.7622\n",
      "Epoch 46/100\n",
      "8250/8250 [==============================] - 0s - loss: 0.0012 - acc: 1.0000 - val_loss: 1.5597 - val_acc: 0.7644\n",
      "Epoch 47/100\n",
      "8250/8250 [==============================] - 0s - loss: 0.0011 - acc: 1.0000 - val_loss: 1.5730 - val_acc: 0.7629\n",
      "Epoch 48/100\n",
      "8250/8250 [==============================] - 0s - loss: 0.0010 - acc: 1.0000 - val_loss: 1.5755 - val_acc: 0.7618\n",
      "Epoch 49/100\n",
      "8250/8250 [==============================] - 0s - loss: 9.4876e-04 - acc: 1.0000 - val_loss: 1.5864 - val_acc: 0.7615\n",
      "Epoch 50/100\n",
      "8250/8250 [==============================] - 0s - loss: 8.7802e-04 - acc: 1.0000 - val_loss: 1.5927 - val_acc: 0.7629\n",
      "Epoch 51/100\n",
      "8250/8250 [==============================] - 0s - loss: 8.1882e-04 - acc: 1.0000 - val_loss: 1.6039 - val_acc: 0.7629\n",
      "Epoch 52/100\n",
      "8250/8250 [==============================] - 0s - loss: 7.5721e-04 - acc: 1.0000 - val_loss: 1.6130 - val_acc: 0.7622\n",
      "Epoch 53/100\n",
      "8250/8250 [==============================] - 0s - loss: 7.0167e-04 - acc: 1.0000 - val_loss: 1.6203 - val_acc: 0.7640\n",
      "Epoch 54/100\n",
      "8250/8250 [==============================] - 0s - loss: 0.0015 - acc: 0.9999 - val_loss: 1.7054 - val_acc: 0.7553\n",
      "Epoch 55/100\n",
      "8250/8250 [==============================] - 0s - loss: 0.2314 - acc: 0.9392 - val_loss: 1.8309 - val_acc: 0.7389c\n",
      "Epoch 56/100\n",
      "8250/8250 [==============================] - 0s - loss: 0.1343 - acc: 0.9556 - val_loss: 1.7252 - val_acc: 0.7611\n",
      "Epoch 57/100\n",
      "8250/8250 [==============================] - 0s - loss: 0.0260 - acc: 0.9916 - val_loss: 1.6993 - val_acc: 0.7589\n",
      "Epoch 58/100\n",
      "8250/8250 [==============================] - 0s - loss: 0.0074 - acc: 0.9989 - val_loss: 1.6828 - val_acc: 0.7644\n",
      "Epoch 59/100\n",
      "8250/8250 [==============================] - 0s - loss: 0.0042 - acc: 0.9996 - val_loss: 1.6899 - val_acc: 0.7647\n",
      "Epoch 60/100\n",
      "8250/8250 [==============================] - 0s - loss: 0.0029 - acc: 0.9999 - val_loss: 1.6883 - val_acc: 0.7669\n",
      "Epoch 61/100\n",
      "8250/8250 [==============================] - 0s - loss: 0.0019 - acc: 1.0000 - val_loss: 1.6953 - val_acc: 0.7658\n",
      "Epoch 62/100\n",
      "8250/8250 [==============================] - 0s - loss: 0.0017 - acc: 1.0000 - val_loss: 1.6990 - val_acc: 0.7658\n",
      "Epoch 63/100\n",
      "8250/8250 [==============================] - 0s - loss: 0.0015 - acc: 1.0000 - val_loss: 1.7078 - val_acc: 0.7662\n",
      "Epoch 64/100\n"
     ]
    },
    {
     "name": "stdout",
     "output_type": "stream",
     "text": [
      "8250/8250 [==============================] - 0s - loss: 0.0013 - acc: 1.0000 - val_loss: 1.7089 - val_acc: 0.7687\n",
      "Epoch 65/100\n",
      "8250/8250 [==============================] - 0s - loss: 0.0012 - acc: 1.0000 - val_loss: 1.7139 - val_acc: 0.7665\n",
      "Epoch 66/100\n",
      "8250/8250 [==============================] - 0s - loss: 0.0011 - acc: 1.0000 - val_loss: 1.7183 - val_acc: 0.7673\n",
      "Epoch 67/100\n",
      "8250/8250 [==============================] - 1s - loss: 9.9424e-04 - acc: 1.0000 - val_loss: 1.7232 - val_acc: 0.7676\n",
      "Epoch 68/100\n",
      "8250/8250 [==============================] - 0s - loss: 9.1579e-04 - acc: 1.0000 - val_loss: 1.7285 - val_acc: 0.7669\n",
      "Epoch 69/100\n",
      "8250/8250 [==============================] - 0s - loss: 8.4809e-04 - acc: 1.0000 - val_loss: 1.7329 - val_acc: 0.7695\n",
      "Epoch 70/100\n",
      "8250/8250 [==============================] - 0s - loss: 8.1109e-04 - acc: 1.0000 - val_loss: 1.7358 - val_acc: 0.7687\n",
      "Epoch 71/100\n",
      "8250/8250 [==============================] - 0s - loss: 0.0011 - acc: 0.9999 - val_loss: 1.7507 - val_acc: 0.7680\n",
      "Epoch 72/100\n",
      "8250/8250 [==============================] - 0s - loss: 0.0038 - acc: 0.9993 - val_loss: 1.7820 - val_acc: 0.7665\n",
      "Epoch 73/100\n",
      "8250/8250 [==============================] - 0s - loss: 0.0145 - acc: 0.9961 - val_loss: 1.8161 - val_acc: 0.7625\n",
      "Epoch 74/100\n",
      "8250/8250 [==============================] - 0s - loss: 0.0453 - acc: 0.9868 - val_loss: 1.9231 - val_acc: 0.7564\n",
      "Epoch 75/100\n",
      "8250/8250 [==============================] - 0s - loss: 0.0666 - acc: 0.9790 - val_loss: 1.9485 - val_acc: 0.7476\n",
      "Epoch 76/100\n",
      "8250/8250 [==============================] - 0s - loss: 0.0320 - acc: 0.9910 - val_loss: 1.9264 - val_acc: 0.7527\n",
      "Epoch 77/100\n",
      "8250/8250 [==============================] - 0s - loss: 0.0143 - acc: 0.9967 - val_loss: 1.9019 - val_acc: 0.7589\n",
      "Epoch 78/100\n",
      "8250/8250 [==============================] - 0s - loss: 0.0039 - acc: 0.9992 - val_loss: 1.9048 - val_acc: 0.7571\n",
      "Epoch 79/100\n",
      "8250/8250 [==============================] - 0s - loss: 0.0015 - acc: 0.9999 - val_loss: 1.8917 - val_acc: 0.7582\n",
      "Epoch 80/100\n",
      "8250/8250 [==============================] - 0s - loss: 9.1898e-04 - acc: 1.0000 - val_loss: 1.8936 - val_acc: 0.7578\n",
      "Epoch 81/100\n",
      "8250/8250 [==============================] - 0s - loss: 7.7561e-04 - acc: 1.0000 - val_loss: 1.8939 - val_acc: 0.7585\n",
      "Epoch 82/100\n",
      "8250/8250 [==============================] - 0s - loss: 6.8456e-04 - acc: 1.0000 - val_loss: 1.8951 - val_acc: 0.7596\n",
      "Epoch 83/100\n",
      "8250/8250 [==============================] - 0s - loss: 6.1405e-04 - acc: 1.0000 - val_loss: 1.8961 - val_acc: 0.7593\n",
      "Epoch 84/100\n",
      "8250/8250 [==============================] - 0s - loss: 5.5827e-04 - acc: 1.0000 - val_loss: 1.8984 - val_acc: 0.7604\n",
      "Epoch 85/100\n",
      "8250/8250 [==============================] - 0s - loss: 5.1051e-04 - acc: 1.0000 - val_loss: 1.9006 - val_acc: 0.7585\n",
      "Epoch 86/100\n",
      "8250/8250 [==============================] - 0s - loss: 4.6943e-04 - acc: 1.0000 - val_loss: 1.9015 - val_acc: 0.7600\n",
      "Epoch 87/100\n",
      "8250/8250 [==============================] - 0s - loss: 4.3361e-04 - acc: 1.0000 - val_loss: 1.9036 - val_acc: 0.7596\n",
      "Epoch 88/100\n",
      "8250/8250 [==============================] - 0s - loss: 4.0192e-04 - acc: 1.0000 - val_loss: 1.9058 - val_acc: 0.7589\n",
      "Epoch 89/100\n",
      "8250/8250 [==============================] - 0s - loss: 3.7375e-04 - acc: 1.0000 - val_loss: 1.9085 - val_acc: 0.7600\n",
      "Epoch 90/100\n",
      "8250/8250 [==============================] - 0s - loss: 3.4814e-04 - acc: 1.0000 - val_loss: 1.9100 - val_acc: 0.7604\n",
      "Epoch 91/100\n",
      "8250/8250 [==============================] - 0s - loss: 3.2456e-04 - acc: 1.0000 - val_loss: 1.9126 - val_acc: 0.7593\n",
      "Epoch 92/100\n",
      "8250/8250 [==============================] - 0s - loss: 3.0407e-04 - acc: 1.0000 - val_loss: 1.9145 - val_acc: 0.7593\n",
      "Epoch 93/100\n",
      "8250/8250 [==============================] - 0s - loss: 2.8460e-04 - acc: 1.0000 - val_loss: 1.9173 - val_acc: 0.7600\n",
      "Epoch 94/100\n",
      "8250/8250 [==============================] - 0s - loss: 2.6639e-04 - acc: 1.0000 - val_loss: 1.9184 - val_acc: 0.7607\n",
      "Epoch 95/100\n",
      "8250/8250 [==============================] - 0s - loss: 2.5013e-04 - acc: 1.0000 - val_loss: 1.9207 - val_acc: 0.7611\n",
      "Epoch 96/100\n",
      "8250/8250 [==============================] - 0s - loss: 2.3548e-04 - acc: 1.0000 - val_loss: 1.9239 - val_acc: 0.7604\n",
      "Epoch 97/100\n",
      "8250/8250 [==============================] - 0s - loss: 2.2008e-04 - acc: 1.0000 - val_loss: 1.9247 - val_acc: 0.7604\n",
      "Epoch 98/100\n",
      "8250/8250 [==============================] - 0s - loss: 2.0803e-04 - acc: 1.0000 - val_loss: 1.9291 - val_acc: 0.7618\n",
      "Epoch 99/100\n",
      "8250/8250 [==============================] - 0s - loss: 1.9349e-04 - acc: 1.0000 - val_loss: 1.9323 - val_acc: 0.7611\n",
      "Epoch 100/100\n",
      "8250/8250 [==============================] - 0s - loss: 1.8303e-04 - acc: 1.0000 - val_loss: 1.9341 - val_acc: 0.7611\n",
      "Time: 80.8276789188385 seconds.\n"
     ]
    }
   ],
   "source": [
    "# Try neural network\n",
    "tic = time.time()\n",
    "\n",
    "# Reshape data\n",
    "# Data to numpy arrays\n",
    "npy_X_test = X_test.values\n",
    "npy_X_train = X_train.values\n",
    "\n",
    "# One-hot encode labels\n",
    "encoder = LabelEncoder()\n",
    "encoder.fit(y)\n",
    "encoded_y_train = encoder.transform(y_train)\n",
    "encoded_y_test = encoder.transform(y_test)\n",
    "onehot_y_train = np_utils.to_categorical(encoded_y_train)\n",
    "onehot_y_test = np_utils.to_categorical(encoded_y_test)\n",
    "\n",
    "# Build model\n",
    "nn = Sequential()\n",
    "nn.add(Dense(100, input_dim=300, activation='relu'))\n",
    "nn.add(Dense(11, activation='softmax'))\n",
    "nn.compile(loss='categorical_crossentropy', optimizer='adam', metrics=['accuracy'])\n",
    "\n",
    "# Train & Test\n",
    "nn.fit(npy_X_train, onehot_y_train,\n",
    "       validation_data=(npy_X_test, onehot_y_test),\n",
    "       epochs=100, batch_size=50)\n",
    "\n",
    "toc = time.time()\n",
    "print('Time: ' + str(toc - tic) + ' seconds.' )\n"
   ]
  },
  {
   "cell_type": "markdown",
   "metadata": {},
   "source": [
    "#### From text and image"
   ]
  },
  {
   "cell_type": "code",
   "execution_count": 189,
   "metadata": {},
   "outputs": [],
   "source": [
    "X = allhand[allhand.columns[4:]]\n",
    "y = allhand_id.hand\n",
    "X_train, X_test, y_train, y_test = train_test_split(X,y,random_state=0)"
   ]
  },
  {
   "cell_type": "code",
   "execution_count": 190,
   "metadata": {},
   "outputs": [
    {
     "name": "stdout",
     "output_type": "stream",
     "text": [
      "Time: 199.36328291893005 seconds.\n",
      "Accuracty: 0.912363636364\n",
      "             precision    recall  f1-score   support\n",
      "\n",
      "       bags       1.00      1.00      1.00       237\n",
      "      coats       0.87      0.89      0.88       270\n",
      "    dresses       0.86      0.94      0.90       240\n",
      "    jackets       0.86      0.86      0.86       250\n",
      "     shirts       0.90      0.82      0.86       227\n",
      "      shoes       1.00      1.00      1.00       253\n",
      "     shorts       0.85      0.90      0.87       251\n",
      "     skirts       0.92      0.92      0.92       266\n",
      "   swimwear       0.94      0.90      0.92       263\n",
      "   trousers       0.91      0.96      0.93       244\n",
      "  underwear       0.93      0.84      0.88       249\n",
      "\n",
      "avg / total       0.91      0.91      0.91      2750\n",
      "\n",
      "[[237   0   0   0   0   0   0   0   0   0   0]\n",
      " [  0 240   4  22   2   0   0   2   0   0   0]\n",
      " [  0   2 226   0   2   0   8   0   0   1   1]\n",
      " [  0  26   1 215   6   0   1   0   0   1   0]\n",
      " [  0   2   3   9 186   0   5   0   4  13   5]\n",
      " [  0   0   0   0   0 253   0   0   0   0   0]\n",
      " [  0   1   4   2   1   0 225  11   2   3   2]\n",
      " [  0   1   7   1   0   0   7 245   1   3   1]\n",
      " [  0   0   6   0   1   0  10   1 238   0   7]\n",
      " [  0   0   2   1   1   0   1   4   0 235   0]\n",
      " [  0   3   9   1   8   0   7   2   7   3 209]]\n"
     ]
    }
   ],
   "source": [
    "# Try logistic regression\n",
    "tic = time.time()\n",
    "lr = LogisticRegression(random_state=1)\n",
    "lr.fit(X, y)\n",
    "lr_y_pred = lr.predict(X_test)\n",
    "toc = time.time()\n",
    "print('Time: ' + str(toc - tic) + ' seconds.' )\n",
    "print('Accuracty: ' + str(accuracy_score(y_test, lr_y_pred)))\n",
    "print(classification_report(y_test, lr_y_pred))\n",
    "print(confusion_matrix(y_test, lr_y_pred))"
   ]
  },
  {
   "cell_type": "code",
   "execution_count": 191,
   "metadata": {},
   "outputs": [
    {
     "name": "stdout",
     "output_type": "stream",
     "text": [
      "Time: 54.0937180519104 seconds.\n",
      "Accuracty: 0.775272727273\n",
      "             precision    recall  f1-score   support\n",
      "\n",
      "       bags       0.96      0.94      0.95       237\n",
      "      coats       0.89      0.40      0.56       270\n",
      "    dresses       0.81      0.57      0.67       240\n",
      "    jackets       0.61      0.90      0.72       250\n",
      "     shirts       0.66      0.73      0.69       227\n",
      "      shoes       0.96      0.98      0.97       253\n",
      "     shorts       0.67      0.84      0.75       251\n",
      "     skirts       0.81      0.73      0.77       266\n",
      "   swimwear       0.77      0.83      0.80       263\n",
      "   trousers       0.76      0.91      0.83       244\n",
      "  underwear       0.82      0.72      0.77       249\n",
      "\n",
      "avg / total       0.79      0.78      0.77      2750\n",
      "\n",
      "[[223   0   1   4   2   2   0   1   1   0   3]\n",
      " [  1 109   6 106  29   1   1   9   1   6   1]\n",
      " [  2   2 137   8  19   2  24  12  14  10  10]\n",
      " [  0   7   2 225  10   0   2   1   0   2   1]\n",
      " [  1   2   1  19 165   0   5   1   8  20   5]\n",
      " [  1   1   1   0   0 247   0   0   1   0   2]\n",
      " [  0   0   2   1   2   0 212  16   8   7   3]\n",
      " [  1   0   9   2   5   2  34 193   3  15   2]\n",
      " [  3   0   2   1   2   2  19   1 219   2  12]\n",
      " [  0   0   5   2   4   0   6   3   2 222   0]\n",
      " [  1   1   3   3  12   2  12   1  27   7 180]]\n"
     ]
    }
   ],
   "source": [
    "# Try linear SVM\n",
    "tic = time.time()\n",
    "svc = LinearSVC(random_state=1)\n",
    "svc.fit(X_train, y_train)\n",
    "svc_y_pred = svc.predict(X_test)\n",
    "toc = time.time()\n",
    "print('Time: ' + str(toc - tic) + ' seconds.' )\n",
    "print('Accuracty: ' + str(accuracy_score(y_test, svc_y_pred)))\n",
    "print(classification_report(y_test, svc_y_pred))\n",
    "print(confusion_matrix(y_test, svc_y_pred))"
   ]
  },
  {
   "cell_type": "code",
   "execution_count": 192,
   "metadata": {},
   "outputs": [
    {
     "name": "stdout",
     "output_type": "stream",
     "text": [
      "Time: 0.5294129848480225 seconds.\n",
      "Accuracty: 0.625818181818\n",
      "             precision    recall  f1-score   support\n",
      "\n",
      "       bags       0.94      0.91      0.93       237\n",
      "      coats       0.73      0.47      0.58       270\n",
      "    dresses       0.60      0.75      0.67       240\n",
      "    jackets       0.52      0.69      0.59       250\n",
      "     shirts       0.72      0.37      0.49       227\n",
      "      shoes       0.90      0.87      0.89       253\n",
      "     shorts       0.60      0.36      0.45       251\n",
      "     skirts       0.85      0.57      0.68       266\n",
      "   swimwear       0.49      0.79      0.60       263\n",
      "   trousers       0.55      0.74      0.63       244\n",
      "  underwear       0.33      0.36      0.34       249\n",
      "\n",
      "avg / total       0.66      0.63      0.62      2750\n",
      "\n",
      "[[216   0   1   3   0   1   0   1   7   0   8]\n",
      " [  1 128   3 102   7   3   2   2   6   1  15]\n",
      " [  1   0 181   3   9   3   5   4   7   8  19]\n",
      " [  2  34   5 173   6   0   2   0   8   6  14]\n",
      " [  0   6  26  35  83   0   4   2  24  28  19]\n",
      " [  0   1   2   0   0 221   0   0  10   1  18]\n",
      " [  0   2  21   4   1   0  90  15  27  69  22]\n",
      " [  1   0  33   4   0   2  19 152  22  15  18]\n",
      " [  2   0   4   2   0   4  12   0 207   6  26]\n",
      " [  3   4   7   5   4   1   7   2   9 181  21]\n",
      " [  3   0  18   3   5  10   9   1  98  13  89]]\n"
     ]
    }
   ],
   "source": [
    "# Try naive bayes\n",
    "tic = time.time()\n",
    "gnb = GaussianNB()\n",
    "gnb.fit(X_train, y_train)\n",
    "gnb_y_pred = gnb.predict(X_test)\n",
    "toc = time.time()\n",
    "print('Time: ' + str(toc - tic) + ' seconds.' )\n",
    "print('Accuracty: ' + str(accuracy_score(y_test, gnb_y_pred)))\n",
    "print(classification_report(y_test, gnb_y_pred))\n",
    "print(confusion_matrix(y_test, gnb_y_pred))"
   ]
  },
  {
   "cell_type": "code",
   "execution_count": 193,
   "metadata": {},
   "outputs": [
    {
     "name": "stdout",
     "output_type": "stream",
     "text": [
      "Time: 26.06452703475952 seconds.\n",
      "Accuracty: 0.743272727273\n",
      "             precision    recall  f1-score   support\n",
      "\n",
      "       bags       0.95      0.96      0.96       237\n",
      "      coats       0.69      0.70      0.70       270\n",
      "    dresses       0.59      0.73      0.65       240\n",
      "    jackets       0.64      0.62      0.63       250\n",
      "     shirts       0.67      0.60      0.63       227\n",
      "      shoes       0.98      0.97      0.97       253\n",
      "     shorts       0.63      0.81      0.71       251\n",
      "     skirts       0.67      0.59      0.63       266\n",
      "   swimwear       0.81      0.69      0.74       263\n",
      "   trousers       0.85      0.83      0.84       244\n",
      "  underwear       0.78      0.68      0.73       249\n",
      "\n",
      "avg / total       0.75      0.74      0.74      2750\n",
      "\n",
      "[[227   2   1   0   0   1   0   3   0   2   1]\n",
      " [  1 189   7  55   8   0   0   9   0   1   0]\n",
      " [  2   4 176   5   7   1  17  21   5   1   1]\n",
      " [  0  55   6 155  30   0   4   0   0   0   0]\n",
      " [  0  11  20  25 137   0   5   8   2  13   6]\n",
      " [  4   0   1   0   1 246   0   0   0   0   1]\n",
      " [  0   0  11   0   5   0 203  20   3   5   4]\n",
      " [  1   1  46   0   3   0  44 158   3   8   2]\n",
      " [  1   2  11   0   3   2  27   5 181   0  31]\n",
      " [  0   4   9   3   3   0  11  10   1 202   1]\n",
      " [  2   4  12   1   9   2  12   2  29   6 170]]\n"
     ]
    }
   ],
   "source": [
    "# Try KNN\n",
    "tic = time.time()\n",
    "knn = neighbors.KNeighborsClassifier(n_neighbors=5)\n",
    "knn.fit(X_train, y_train)\n",
    "knn_y_pred = knn.predict(X_test)\n",
    "toc = time.time()\n",
    "\n",
    "print('Time: ' + str(toc - tic) + ' seconds.' )\n",
    "print('Accuracty: ' + str(accuracy_score(y_test, knn_y_pred)))\n",
    "print(classification_report(y_test, knn_y_pred))\n",
    "print(confusion_matrix(y_test, knn_y_pred))"
   ]
  },
  {
   "cell_type": "code",
   "execution_count": 194,
   "metadata": {},
   "outputs": [
    {
     "name": "stdout",
     "output_type": "stream",
     "text": [
      "Time: 10.122843027114868 seconds.\n",
      "Accuracty: 0.615636363636\n",
      "             precision    recall  f1-score   support\n",
      "\n",
      "       bags       0.89      0.88      0.89       237\n",
      "      coats       0.53      0.57      0.55       270\n",
      "    dresses       0.53      0.48      0.51       240\n",
      "    jackets       0.49      0.48      0.49       250\n",
      "     shirts       0.44      0.48      0.46       227\n",
      "      shoes       0.90      0.92      0.91       253\n",
      "     shorts       0.54      0.58      0.56       251\n",
      "     skirts       0.59      0.57      0.58       266\n",
      "   swimwear       0.67      0.62      0.64       263\n",
      "   trousers       0.67      0.66      0.66       244\n",
      "  underwear       0.54      0.53      0.54       249\n",
      "\n",
      "avg / total       0.62      0.62      0.62      2750\n",
      "\n",
      "[[208   2   1   1   5   4   2   2   3   2   7]\n",
      " [  0 154   8  62  24   1   7   2   2   6   4]\n",
      " [  3  13 116  11  19   4  16  32   7   6  13]\n",
      " [  1  64   9 120  30   0   8   1   1  10   6]\n",
      " [  2  22  18  32 110   3   5   7   5  16   7]\n",
      " [  7   1   3   0   2 232   3   1   0   2   2]\n",
      " [  1   5  12   4  19   0 146  24  14  13  13]\n",
      " [  2   7  26   0  11   4  30 152   6  13  15]\n",
      " [  4   2   6   3   8   1  21  11 163   5  39]\n",
      " [  0  14   9   7  13   2  23  10   1 160   5]\n",
      " [  5   5  11   4  11   7  11  16  42   5 132]]\n"
     ]
    }
   ],
   "source": [
    "# Try decision tree, maybe random forest later\n",
    "tic = time.time()\n",
    "dt = DecisionTreeClassifier(random_state=1)\n",
    "dt.fit(X_train, y_train)\n",
    "dt_y_pred = dt.predict(X_test)\n",
    "toc = time.time()\n",
    "print('Time: ' + str(toc - tic) + ' seconds.' )\n",
    "print('Accuracty: ' + str(accuracy_score(y_test, dt_y_pred)))\n",
    "print(classification_report(y_test, dt_y_pred))\n",
    "print(confusion_matrix(y_test, dt_y_pred))"
   ]
  },
  {
   "cell_type": "code",
   "execution_count": 195,
   "metadata": {},
   "outputs": [
    {
     "name": "stdout",
     "output_type": "stream",
     "text": [
      "Train on 8250 samples, validate on 2750 samples\n",
      "Epoch 1/100\n",
      "8250/8250 [==============================] - 2s - loss: 1.0649 - acc: 0.6895 - val_loss: 0.7552 - val_acc: 0.7604\n",
      "Epoch 2/100\n",
      "8250/8250 [==============================] - 1s - loss: 0.5092 - acc: 0.8299 - val_loss: 0.6907 - val_acc: 0.7825\n",
      "Epoch 3/100\n",
      "8250/8250 [==============================] - 1s - loss: 0.3588 - acc: 0.8827 - val_loss: 0.6679 - val_acc: 0.7884\n",
      "Epoch 4/100\n",
      "8250/8250 [==============================] - 1s - loss: 0.2595 - acc: 0.9158 - val_loss: 0.6723 - val_acc: 0.7942\n",
      "Epoch 5/100\n",
      "8250/8250 [==============================] - 1s - loss: 0.1870 - acc: 0.9433 - val_loss: 0.6856 - val_acc: 0.7891\n",
      "Epoch 6/100\n",
      "8250/8250 [==============================] - 1s - loss: 0.1335 - acc: 0.9634 - val_loss: 0.6796 - val_acc: 0.8033\n",
      "Epoch 7/100\n",
      "8250/8250 [==============================] - 1s - loss: 0.0913 - acc: 0.9812 - val_loss: 0.6836 - val_acc: 0.8080\n",
      "Epoch 8/100\n",
      "8250/8250 [==============================] - 1s - loss: 0.0611 - acc: 0.9909 - val_loss: 0.7343 - val_acc: 0.8022\n",
      "Epoch 9/100\n",
      "8250/8250 [==============================] - 1s - loss: 0.0418 - acc: 0.9962 - val_loss: 0.7153 - val_acc: 0.8105\n",
      "Epoch 10/100\n",
      "8250/8250 [==============================] - 1s - loss: 0.0292 - acc: 0.9981 - val_loss: 0.7559 - val_acc: 0.8065\n",
      "Epoch 11/100\n",
      "8250/8250 [==============================] - 1s - loss: 0.0208 - acc: 0.9990 - val_loss: 0.7536 - val_acc: 0.8091\n",
      "Epoch 12/100\n",
      "8250/8250 [==============================] - 1s - loss: 0.0217 - acc: 0.9977 - val_loss: 0.7783 - val_acc: 0.8065\n",
      "Epoch 13/100\n",
      "8250/8250 [==============================] - 1s - loss: 0.0282 - acc: 0.9955 - val_loss: 0.8142 - val_acc: 0.8029\n",
      "Epoch 14/100\n",
      "8250/8250 [==============================] - 1s - loss: 0.0385 - acc: 0.9915 - val_loss: 0.8873 - val_acc: 0.8011\n",
      "Epoch 15/100\n",
      "8250/8250 [==============================] - 1s - loss: 0.0633 - acc: 0.9858 - val_loss: 0.9545 - val_acc: 0.8000\n",
      "Epoch 16/100\n",
      "8250/8250 [==============================] - 1s - loss: 0.0570 - acc: 0.9862 - val_loss: 0.9508 - val_acc: 0.7942\n",
      "Epoch 17/100\n",
      "8250/8250 [==============================] - 1s - loss: 0.0615 - acc: 0.9825 - val_loss: 0.9728 - val_acc: 0.7989\n",
      "Epoch 18/100\n",
      "8250/8250 [==============================] - 1s - loss: 0.0455 - acc: 0.9879 - val_loss: 1.0188 - val_acc: 0.7931\n",
      "Epoch 19/100\n",
      "8250/8250 [==============================] - 1s - loss: 0.0293 - acc: 0.9933 - val_loss: 0.9763 - val_acc: 0.8004\n",
      "Epoch 20/100\n",
      "8250/8250 [==============================] - 1s - loss: 0.0127 - acc: 0.9987 - val_loss: 0.9740 - val_acc: 0.8033\n",
      "Epoch 21/100\n",
      "8250/8250 [==============================] - 1s - loss: 0.0069 - acc: 0.9998 - val_loss: 0.9750 - val_acc: 0.8062\n",
      "Epoch 22/100\n",
      "8250/8250 [==============================] - 1s - loss: 0.0059 - acc: 0.9998 - val_loss: 0.9818 - val_acc: 0.8065\n",
      "Epoch 23/100\n",
      "8250/8250 [==============================] - 1s - loss: 0.0061 - acc: 0.9995 - val_loss: 0.9973 - val_acc: 0.8062\n",
      "Epoch 24/100\n",
      "8250/8250 [==============================] - 1s - loss: 0.0155 - acc: 0.9975 - val_loss: 1.0001 - val_acc: 0.8051\n",
      "Epoch 25/100\n",
      "8250/8250 [==============================] - 1s - loss: 0.0095 - acc: 0.9989 - val_loss: 1.0320 - val_acc: 0.7993\n",
      "Epoch 26/100\n",
      "8250/8250 [==============================] - 1s - loss: 0.0194 - acc: 0.9960 - val_loss: 1.0512 - val_acc: 0.8015\n",
      "Epoch 27/100\n",
      "8250/8250 [==============================] - 1s - loss: 0.0208 - acc: 0.9949 - val_loss: 1.0561 - val_acc: 0.8036\n",
      "Epoch 28/100\n",
      "8250/8250 [==============================] - 1s - loss: 0.0511 - acc: 0.9870 - val_loss: 1.1828 - val_acc: 0.7887\n",
      "Epoch 29/100\n",
      "8250/8250 [==============================] - 1s - loss: 0.0917 - acc: 0.9716 - val_loss: 1.3596 - val_acc: 0.7844\n",
      "Epoch 30/100\n",
      "8250/8250 [==============================] - 1s - loss: 0.0905 - acc: 0.9727 - val_loss: 1.2111 - val_acc: 0.7978\n",
      "Epoch 31/100\n",
      "8250/8250 [==============================] - 1s - loss: 0.0356 - acc: 0.9905 - val_loss: 1.2097 - val_acc: 0.7978\n",
      "Epoch 32/100\n",
      "8250/8250 [==============================] - 1s - loss: 0.0125 - acc: 0.9981 - val_loss: 1.1681 - val_acc: 0.8087\n",
      "Epoch 33/100\n",
      "8250/8250 [==============================] - 1s - loss: 0.0077 - acc: 0.9990 - val_loss: 1.1889 - val_acc: 0.8102\n",
      "Epoch 34/100\n",
      "8250/8250 [==============================] - 1s - loss: 0.0082 - acc: 0.9992 - val_loss: 1.1758 - val_acc: 0.8098\n",
      "Epoch 35/100\n",
      "8250/8250 [==============================] - 1s - loss: 0.0063 - acc: 0.9995 - val_loss: 1.1965 - val_acc: 0.8073\n",
      "Epoch 36/100\n",
      "8250/8250 [==============================] - 1s - loss: 0.0070 - acc: 0.9992 - val_loss: 1.2248 - val_acc: 0.8069\n",
      "Epoch 37/100\n",
      "8250/8250 [==============================] - 1s - loss: 0.0075 - acc: 0.9994 - val_loss: 1.1965 - val_acc: 0.8113\n",
      "Epoch 38/100\n",
      "8250/8250 [==============================] - 1s - loss: 0.0045 - acc: 0.9998 - val_loss: 1.1974 - val_acc: 0.8120\n",
      "Epoch 39/100\n",
      "8250/8250 [==============================] - 1s - loss: 0.0044 - acc: 0.9998 - val_loss: 1.2006 - val_acc: 0.8124\n",
      "Epoch 40/100\n",
      "8250/8250 [==============================] - 1s - loss: 0.0044 - acc: 0.9998 - val_loss: 1.2037 - val_acc: 0.8120\n",
      "Epoch 41/100\n",
      "8250/8250 [==============================] - 2s - loss: 0.0043 - acc: 0.9998 - val_loss: 1.2068 - val_acc: 0.8131\n",
      "Epoch 42/100\n",
      "8250/8250 [==============================] - 1s - loss: 0.0043 - acc: 0.9998 - val_loss: 1.2097 - val_acc: 0.8131\n",
      "Epoch 43/100\n",
      "8250/8250 [==============================] - 1s - loss: 0.0043 - acc: 0.9998 - val_loss: 1.2122 - val_acc: 0.8124\n",
      "Epoch 44/100\n",
      "8250/8250 [==============================] - 1s - loss: 0.0042 - acc: 0.9998 - val_loss: 1.2170 - val_acc: 0.8135\n",
      "Epoch 45/100\n",
      "8250/8250 [==============================] - 1s - loss: 0.0042 - acc: 0.9998 - val_loss: 1.2190 - val_acc: 0.8135\n",
      "Epoch 46/100\n",
      "8250/8250 [==============================] - 1s - loss: 0.0042 - acc: 0.9998 - val_loss: 1.2233 - val_acc: 0.8142\n",
      "Epoch 47/100\n",
      "8250/8250 [==============================] - 1s - loss: 0.0042 - acc: 0.9998 - val_loss: 1.2262 - val_acc: 0.8138\n",
      "Epoch 48/100\n",
      "8250/8250 [==============================] - 1s - loss: 0.0041 - acc: 0.9998 - val_loss: 1.2289 - val_acc: 0.8138\n",
      "Epoch 49/100\n",
      "8250/8250 [==============================] - 1s - loss: 0.0041 - acc: 0.9998 - val_loss: 1.2318 - val_acc: 0.8145\n",
      "Epoch 50/100\n",
      "8250/8250 [==============================] - 1s - loss: 0.0041 - acc: 0.9998 - val_loss: 1.2343 - val_acc: 0.8135\n",
      "Epoch 51/100\n",
      "8250/8250 [==============================] - 1s - loss: 0.0041 - acc: 0.9998 - val_loss: 1.2388 - val_acc: 0.8138\n",
      "Epoch 52/100\n",
      "8250/8250 [==============================] - 1s - loss: 0.0041 - acc: 0.9998 - val_loss: 1.2411 - val_acc: 0.8145\n",
      "Epoch 53/100\n",
      "8250/8250 [==============================] - 1s - loss: 0.0041 - acc: 0.9998 - val_loss: 1.2446 - val_acc: 0.8145\n",
      "Epoch 54/100\n",
      "8250/8250 [==============================] - 1s - loss: 0.0041 - acc: 0.9998 - val_loss: 1.2474 - val_acc: 0.8149\n",
      "Epoch 55/100\n",
      "8250/8250 [==============================] - 1s - loss: 0.0040 - acc: 0.9998 - val_loss: 1.2506 - val_acc: 0.8153\n",
      "Epoch 56/100\n",
      "8250/8250 [==============================] - 1s - loss: 0.0040 - acc: 0.9998 - val_loss: 1.2544 - val_acc: 0.8145\n",
      "Epoch 57/100\n",
      "8250/8250 [==============================] - 1s - loss: 0.0040 - acc: 0.9998 - val_loss: 1.2563 - val_acc: 0.8160\n",
      "Epoch 58/100\n",
      "8250/8250 [==============================] - 1s - loss: 0.0040 - acc: 0.9998 - val_loss: 1.2602 - val_acc: 0.8153\n",
      "Epoch 59/100\n",
      "8250/8250 [==============================] - 1s - loss: 0.0040 - acc: 0.9998 - val_loss: 1.2637 - val_acc: 0.8156\n",
      "Epoch 60/100\n",
      "8250/8250 [==============================] - 1s - loss: 0.0040 - acc: 0.9998 - val_loss: 1.2675 - val_acc: 0.8149\n",
      "Epoch 61/100\n",
      "8250/8250 [==============================] - 1s - loss: 0.0040 - acc: 0.9998 - val_loss: 1.2700 - val_acc: 0.8142\n",
      "Epoch 62/100\n",
      "8250/8250 [==============================] - 1s - loss: 0.0040 - acc: 0.9998 - val_loss: 1.2743 - val_acc: 0.8135\n",
      "Epoch 63/100\n",
      "8250/8250 [==============================] - 1s - loss: 0.0739 - acc: 0.9910 - val_loss: 1.8602 - val_acc: 0.7538\n",
      "Epoch 64/100\n",
      "8250/8250 [==============================] - 1s - loss: 0.3344 - acc: 0.9181 - val_loss: 1.4119 - val_acc: 0.7702\n",
      "Epoch 65/100\n"
     ]
    },
    {
     "name": "stdout",
     "output_type": "stream",
     "text": [
      "8250/8250 [==============================] - 1s - loss: 0.0619 - acc: 0.9805 - val_loss: 1.4296 - val_acc: 0.7931\n",
      "Epoch 66/100\n",
      "8250/8250 [==============================] - 1s - loss: 0.0155 - acc: 0.9967 - val_loss: 1.3659 - val_acc: 0.7978\n",
      "Epoch 67/100\n",
      "8250/8250 [==============================] - 1s - loss: 0.0066 - acc: 0.9995 - val_loss: 1.3635 - val_acc: 0.8000\n",
      "Epoch 68/100\n",
      "8250/8250 [==============================] - 2s - loss: 0.0056 - acc: 0.9996 - val_loss: 1.3753 - val_acc: 0.7975\n",
      "Epoch 69/100\n",
      "8250/8250 [==============================] - 2s - loss: 0.0060 - acc: 0.9994 - val_loss: 1.3693 - val_acc: 0.8004\n",
      "Epoch 70/100\n",
      "8250/8250 [==============================] - 1s - loss: 0.0047 - acc: 0.9998 - val_loss: 1.3737 - val_acc: 0.7996\n",
      "Epoch 71/100\n",
      "8250/8250 [==============================] - 1s - loss: 0.0046 - acc: 0.9998 - val_loss: 1.3772 - val_acc: 0.7996\n",
      "Epoch 72/100\n",
      "8250/8250 [==============================] - 1s - loss: 0.0045 - acc: 0.9998 - val_loss: 1.3810 - val_acc: 0.8000\n",
      "Epoch 73/100\n",
      "8250/8250 [==============================] - 1s - loss: 0.0044 - acc: 0.9998 - val_loss: 1.3857 - val_acc: 0.7993\n",
      "Epoch 74/100\n",
      "8250/8250 [==============================] - 1s - loss: 0.0044 - acc: 0.9998 - val_loss: 1.3885 - val_acc: 0.7996\n",
      "Epoch 75/100\n",
      "8250/8250 [==============================] - 1s - loss: 0.0043 - acc: 0.9998 - val_loss: 1.3919 - val_acc: 0.8004\n",
      "Epoch 76/100\n",
      "8250/8250 [==============================] - 1s - loss: 0.0043 - acc: 0.9998 - val_loss: 1.3958 - val_acc: 0.8004\n",
      "Epoch 77/100\n",
      "8250/8250 [==============================] - 1s - loss: 0.0042 - acc: 0.9998 - val_loss: 1.3991 - val_acc: 0.8004\n",
      "Epoch 78/100\n",
      "8250/8250 [==============================] - 1s - loss: 0.0042 - acc: 0.9998 - val_loss: 1.4029 - val_acc: 0.8015\n",
      "Epoch 79/100\n",
      "8250/8250 [==============================] - 1s - loss: 0.0042 - acc: 0.9998 - val_loss: 1.4059 - val_acc: 0.8022\n",
      "Epoch 80/100\n",
      "8250/8250 [==============================] - 1s - loss: 0.0042 - acc: 0.9998 - val_loss: 1.4101 - val_acc: 0.8022\n",
      "Epoch 81/100\n",
      "8250/8250 [==============================] - 1s - loss: 0.0041 - acc: 0.9998 - val_loss: 1.4130 - val_acc: 0.8029\n",
      "Epoch 82/100\n",
      "8250/8250 [==============================] - 1s - loss: 0.0041 - acc: 0.9998 - val_loss: 1.4167 - val_acc: 0.8029\n",
      "Epoch 83/100\n",
      "8250/8250 [==============================] - 1s - loss: 0.0041 - acc: 0.9998 - val_loss: 1.4199 - val_acc: 0.8033\n",
      "Epoch 84/100\n",
      "8250/8250 [==============================] - 1s - loss: 0.0041 - acc: 0.9998 - val_loss: 1.4234 - val_acc: 0.8036\n",
      "Epoch 85/100\n",
      "8250/8250 [==============================] - 1s - loss: 0.0041 - acc: 0.9998 - val_loss: 1.4277 - val_acc: 0.8040\n",
      "Epoch 86/100\n",
      "8250/8250 [==============================] - 1s - loss: 0.0041 - acc: 0.9998 - val_loss: 1.4302 - val_acc: 0.8033\n",
      "Epoch 87/100\n",
      "8250/8250 [==============================] - 1s - loss: 0.0041 - acc: 0.9998 - val_loss: 1.4336 - val_acc: 0.8044\n",
      "Epoch 88/100\n",
      "8250/8250 [==============================] - 1s - loss: 0.0040 - acc: 0.9998 - val_loss: 1.4370 - val_acc: 0.8044\n",
      "Epoch 89/100\n",
      "8250/8250 [==============================] - 1s - loss: 0.0040 - acc: 0.9998 - val_loss: 1.4399 - val_acc: 0.8040\n",
      "Epoch 90/100\n",
      "8250/8250 [==============================] - 1s - loss: 0.0040 - acc: 0.9998 - val_loss: 1.4434 - val_acc: 0.8055\n",
      "Epoch 91/100\n",
      "8250/8250 [==============================] - 1s - loss: 0.0040 - acc: 0.9998 - val_loss: 1.4469 - val_acc: 0.8047\n",
      "Epoch 92/100\n",
      "8250/8250 [==============================] - 1s - loss: 0.0040 - acc: 0.9998 - val_loss: 1.4500 - val_acc: 0.8058\n",
      "Epoch 93/100\n",
      "8250/8250 [==============================] - 1s - loss: 0.0040 - acc: 0.9998 - val_loss: 1.4530 - val_acc: 0.8055\n",
      "Epoch 94/100\n",
      "8250/8250 [==============================] - 1s - loss: 0.0040 - acc: 0.9998 - val_loss: 1.4564 - val_acc: 0.8058\n",
      "Epoch 95/100\n",
      "8250/8250 [==============================] - 1s - loss: 0.0040 - acc: 0.9998 - val_loss: 1.4597 - val_acc: 0.8062\n",
      "Epoch 96/100\n",
      "8250/8250 [==============================] - 1s - loss: 0.0040 - acc: 0.9998 - val_loss: 1.4632 - val_acc: 0.8069\n",
      "Epoch 97/100\n",
      "8250/8250 [==============================] - 1s - loss: 0.0040 - acc: 0.9998 - val_loss: 1.4664 - val_acc: 0.8080\n",
      "Epoch 98/100\n",
      "8250/8250 [==============================] - 1s - loss: 0.0040 - acc: 0.9998 - val_loss: 1.4703 - val_acc: 0.8076\n",
      "Epoch 99/100\n",
      "8250/8250 [==============================] - 1s - loss: 0.0040 - acc: 0.9998 - val_loss: 1.4729 - val_acc: 0.8084\n",
      "Epoch 100/100\n",
      "8250/8250 [==============================] - 1s - loss: 0.0040 - acc: 0.9998 - val_loss: 1.4760 - val_acc: 0.8076\n",
      "Time: 159.06521105766296 seconds.\n"
     ]
    }
   ],
   "source": [
    "# Try neural network\n",
    "tic = time.time()\n",
    "\n",
    "# Reshape data\n",
    "# Data to numpy arrays\n",
    "npy_X_test = X_test.values\n",
    "npy_X_train = X_train.values\n",
    "\n",
    "# One-hot encode labels\n",
    "encoder = LabelEncoder()\n",
    "encoder.fit(y)\n",
    "encoded_y_train = encoder.transform(y_train)\n",
    "encoded_y_test = encoder.transform(y_test)\n",
    "onehot_y_train = np_utils.to_categorical(encoded_y_train)\n",
    "onehot_y_test = np_utils.to_categorical(encoded_y_test)\n",
    "\n",
    "# Build model\n",
    "nn = Sequential()\n",
    "nn.add(Dense(300, input_dim=600, activation='relu'))\n",
    "nn.add(Dense(11, activation='softmax'))\n",
    "nn.compile(loss='categorical_crossentropy', optimizer='adam', metrics=['accuracy'])\n",
    "\n",
    "# Train & Test\n",
    "nn.fit(npy_X_train, onehot_y_train,\n",
    "       validation_data=(npy_X_test, onehot_y_test),\n",
    "       epochs=100, batch_size=50)\n",
    "\n",
    "toc = time.time()\n",
    "print('Time: ' + str(toc - tic) + ' seconds.' )\n"
   ]
  },
  {
   "cell_type": "code",
   "execution_count": null,
   "metadata": {
    "collapsed": true
   },
   "outputs": [],
   "source": []
  },
  {
   "cell_type": "code",
   "execution_count": null,
   "metadata": {
    "collapsed": true
   },
   "outputs": [],
   "source": []
  },
  {
   "cell_type": "code",
   "execution_count": null,
   "metadata": {},
   "outputs": [],
   "source": []
  },
  {
   "cell_type": "markdown",
   "metadata": {},
   "source": [
    "# Unsupervised Clustering"
   ]
  },
  {
   "cell_type": "code",
   "execution_count": null,
   "metadata": {
    "collapsed": true
   },
   "outputs": [],
   "source": []
  },
  {
   "cell_type": "code",
   "execution_count": null,
   "metadata": {
    "collapsed": true
   },
   "outputs": [],
   "source": []
  },
  {
   "cell_type": "code",
   "execution_count": null,
   "metadata": {
    "collapsed": true
   },
   "outputs": [],
   "source": []
  },
  {
   "cell_type": "code",
   "execution_count": null,
   "metadata": {
    "collapsed": true
   },
   "outputs": [],
   "source": []
  }
 ],
 "metadata": {
  "kernelspec": {
   "display_name": "Python 3",
   "language": "python",
   "name": "python3"
  },
  "language_info": {
   "codemirror_mode": {
    "name": "ipython",
    "version": 3
   },
   "file_extension": ".py",
   "mimetype": "text/x-python",
   "name": "python",
   "nbconvert_exporter": "python",
   "pygments_lexer": "ipython3",
   "version": "3.5.3"
  }
 },
 "nbformat": 4,
 "nbformat_minor": 2
}
