{
 "cells": [
  {
   "cell_type": "markdown",
   "metadata": {},
   "source": [
    "# Classify features using various ML tools\n",
    "- Requires 'data/handlabeled_vectors_1k.csv'), with columns:\n",
    "    - [0] is old index, ignore.\n",
    "    - [1] is id \n",
    "    - [2] is original category\n",
    "    - [3] is hand category\n",
    "    - [next 300] are text features\n",
    "    - [next 300] are image features"
   ]
  },
  {
   "cell_type": "code",
   "execution_count": 118,
   "metadata": {
    "collapsed": true
   },
   "outputs": [],
   "source": [
    "import pandas as pd\n",
    "import numpy as np\n",
    "\n",
    "# Models\n",
    "from sklearn.linear_model import LogisticRegression\n",
    "from sklearn.svm import LinearSVC\n",
    "from sklearn.naive_bayes import GaussianNB\n",
    "from sklearn.neighbors import KNeighborsClassifier\n",
    "from sklearn.tree import DecisionTreeClassifier\n",
    "\n",
    "# Model tools\n",
    "from sklearn.model_selection import train_test_split\n",
    "from sklearn.metrics import accuracy_score\n",
    "from sklearn.metrics import confusion_matrix\n",
    "from sklearn.metrics import classification_report\n",
    "\n",
    "# Neural net tools\n",
    "from sklearn.preprocessing import LabelEncoder\n",
    "from keras.models import Sequential\n",
    "from keras.layers import Dense\n",
    "from keras.utils import np_utils\n",
    "\n",
    "# Plotting tools\n",
    "import seaborn as sns\n",
    "import matplotlib.pyplot as plt\n",
    "%matplotlib inline\n",
    "import matplotlib.cm as cm\n",
    "import itertools"
   ]
  },
  {
   "cell_type": "markdown",
   "metadata": {},
   "source": [
    "## Import the data"
   ]
  },
  {
   "cell_type": "code",
   "execution_count": 70,
   "metadata": {
    "collapsed": true
   },
   "outputs": [],
   "source": [
    "df = pd.read_csv('data/handlabeled_vectors_1k.csv')\n",
    "id_vec = df[df.columns[1]]\n",
    "category_vec = df[df.columns[3]]\n",
    "text_vec = df[df.columns[4:304]]\n",
    "image_vec = df[df.columns[304:604]]\n",
    "combined_vec = df[df.columns[4:604]]"
   ]
  },
  {
   "cell_type": "code",
   "execution_count": 71,
   "metadata": {},
   "outputs": [
    {
     "data": {
      "text/plain": [
       "((11000,), (11000,), (11000, 300), (11000, 300))"
      ]
     },
     "execution_count": 71,
     "metadata": {},
     "output_type": "execute_result"
    }
   ],
   "source": [
    "id_vec.shape, category_vec.shape, text_vec.shape, image_vec.shape"
   ]
  },
  {
   "cell_type": "code",
   "execution_count": null,
   "metadata": {
    "collapsed": true
   },
   "outputs": [],
   "source": []
  },
  {
   "cell_type": "markdown",
   "metadata": {
    "collapsed": true
   },
   "source": [
    "## Define class for running all the models and printing accuracy score"
   ]
  },
  {
   "cell_type": "code",
   "execution_count": 72,
   "metadata": {
    "collapsed": true
   },
   "outputs": [],
   "source": [
    "class Run_Classify:\n",
    "    def __init__(self):\n",
    "        pass\n",
    "    \n",
    "    def do_all(self, X_train, X_test, y_train, y_test, rs=0):\n",
    "        \n",
    "        # Logistic regression\n",
    "        lr = LogisticRegression(random_state=rs)\n",
    "        lr.fit(X_train, y_train)\n",
    "        y_pred = lr.predict(X_test)\n",
    "        print('Logistic regression: ' + str(accuracy_score(y_test, y_pred)))\n",
    "    \n",
    "        # Linear SVM:\n",
    "        svc = LinearSVC(random_state=1)\n",
    "        svc.fit(X_train, y_train)\n",
    "        y_pred = svc.predict(X_test)\n",
    "        print('SVM: ' + str(accuracy_score(y_test, y_pred)))\n",
    "        \n",
    "        # Naive Bayes:\n",
    "        gnb = GaussianNB()\n",
    "        gnb.fit(X_train, y_train)\n",
    "        y_pred = gnb.predict(X_test)\n",
    "        print('Bayes: ' + str(accuracy_score(y_test, y_pred)))\n",
    "        \n",
    "        # KNN:\n",
    "        knn = KNeighborsClassifier(n_neighbors=5)\n",
    "        knn.fit(X_train, y_train)\n",
    "        y_pred = knn.predict(X_test)\n",
    "        print('KNN: ' + str(accuracy_score(y_test, y_pred)))\n",
    "        \n",
    "        # Decision Tree:\n",
    "        dt = DecisionTreeClassifier(random_state=1)\n",
    "        dt.fit(X_train, y_train)\n",
    "        y_pred = dt.predict(X_test)\n",
    "        print('Decision Tree: ' + str(accuracy_score(y_test, y_pred)))\n",
    "\n",
    "        \n",
    "    def do_nn(self, X, y):\n",
    "        # Reshape data\n",
    "        X_train, X_test, y_train, y_test = train_test_split(X, y, random_state=0)\n",
    "        npy_X_test = X_test.values\n",
    "        npy_X_train = X_train.values\n",
    "        \n",
    "        # One-hot encode labels\n",
    "        encoder = LabelEncoder()\n",
    "        encoder.fit(y)\n",
    "        encoded_y_train = encoder.transform(y_train)\n",
    "        encoded_y_test = encoder.transform(y_test)\n",
    "        onehot_y_train = np_utils.to_categorical(encoded_y_train)\n",
    "        onehot_y_test = np_utils.to_categorical(encoded_y_test)\n",
    "        \n",
    "        # Build model\n",
    "        nn = Sequential()\n",
    "        nn.add(Dense(100, input_dim=X.shape[1], activation='relu'))\n",
    "        nn.add(Dense(len(np.unique(y)), activation='softmax'))\n",
    "        nn.compile(loss='categorical_crossentropy', optimizer='adam', metrics=['accuracy'])\n",
    "\n",
    "        # Train & Test\n",
    "        nnhistory = nn.fit(npy_X_train, onehot_y_train,\n",
    "               #validation_data=(npy_X_test, onehot_y_test),\n",
    "               epochs=100, batch_size=50, verbose=False)\n",
    "        score = nn.evaluate(npy_X_test, onehot_y_test, batch_size=32, verbose=False)\n",
    "        print(\"Neural Network: \" + str(score[1]))\n",
    "        \n",
    "    def get_classification_scores(self, X, y, runNN=False):\n",
    "        X_train, X_test, y_train, y_test = train_test_split(X, y, random_state=0)\n",
    "        print(\"ACCURACIES:\")\n",
    "        self.do_all(X_train, X_test, y_train, y_test)\n",
    "        \n",
    "        # Neural network:\n",
    "        if runNN:\n",
    "            self.do_nn(X, y)\n",
    "            \n",
    "        \n",
    "#print(classification_report(y_test, lr_y_pred))\n",
    "#print(confusion_matrix(y_test, lr_y_pred))"
   ]
  },
  {
   "cell_type": "code",
   "execution_count": null,
   "metadata": {
    "collapsed": true
   },
   "outputs": [],
   "source": []
  },
  {
   "cell_type": "markdown",
   "metadata": {
    "collapsed": true
   },
   "source": [
    "# Print accuracies for various models"
   ]
  },
  {
   "cell_type": "markdown",
   "metadata": {
    "collapsed": true
   },
   "source": [
    "### Accuracies for text only"
   ]
  },
  {
   "cell_type": "code",
   "execution_count": 36,
   "metadata": {},
   "outputs": [
    {
     "name": "stdout",
     "output_type": "stream",
     "text": [
      "ACCURACIES:\n",
      "Logistic regression: 0.816363636364\n",
      "SVM: 0.847272727273\n",
      "Bayes: 0.527272727273\n",
      "KNN: 0.723636363636\n",
      "Decision Tree: 0.476727272727\n",
      "Neural Network: 0.851636363723\n"
     ]
    }
   ],
   "source": [
    "y = category_vec\n",
    "X = text_vec\n",
    "rc = Run_Classify()\n",
    "rc.get_classification_scores(X, y, runNN=True)"
   ]
  },
  {
   "cell_type": "markdown",
   "metadata": {
    "collapsed": true
   },
   "source": [
    "### Accuracies for image only"
   ]
  },
  {
   "cell_type": "code",
   "execution_count": 39,
   "metadata": {},
   "outputs": [
    {
     "name": "stdout",
     "output_type": "stream",
     "text": [
      "ACCURACIES:\n",
      "Logistic regression: 0.766181818182\n",
      "SVM: 0.718545454545\n",
      "Bayes: 0.605454545455\n",
      "KNN: 0.742909090909\n",
      "Decision Tree: 0.589454545455\n",
      "Neural Network: 0.764363636537\n"
     ]
    }
   ],
   "source": [
    "y = category_vec\n",
    "X = image_vec\n",
    "rc = Run_Classify()\n",
    "rc.get_classification_scores(X, y, runNN=True)"
   ]
  },
  {
   "cell_type": "markdown",
   "metadata": {
    "collapsed": true
   },
   "source": [
    "### Accuracies for text + image"
   ]
  },
  {
   "cell_type": "code",
   "execution_count": 49,
   "metadata": {},
   "outputs": [
    {
     "name": "stdout",
     "output_type": "stream",
     "text": [
      "ACCURACIES:\n",
      "Logistic regression: 0.821454545455\n",
      "SVM: 0.792363636364\n",
      "Bayes: 0.625454545455\n",
      "KNN: 0.742909090909\n",
      "Decision Tree: 0.608363636364\n",
      "Neural Network: 0.80399999974\n"
     ]
    }
   ],
   "source": [
    "y = category_vec\n",
    "X = combined_vec\n",
    "rc = Run_Classify()\n",
    "rc.get_classification_scores(X, y, runNN=True)"
   ]
  },
  {
   "cell_type": "code",
   "execution_count": null,
   "metadata": {
    "collapsed": true
   },
   "outputs": [],
   "source": []
  },
  {
   "cell_type": "code",
   "execution_count": null,
   "metadata": {
    "collapsed": true
   },
   "outputs": [],
   "source": []
  },
  {
   "cell_type": "markdown",
   "metadata": {},
   "source": [
    "# Evaluate with visualizations "
   ]
  },
  {
   "cell_type": "code",
   "execution_count": 79,
   "metadata": {
    "collapsed": true
   },
   "outputs": [],
   "source": [
    "# Visualize confusion matrix\n",
    "def plot_confusion_matrix(confmat, classes,\n",
    "                          normalize=False,\n",
    "                          title='Confusion matrix',\n",
    "                          cmap=plt.cm.plasma):\n",
    "\n",
    "    plt.imshow(confmat, interpolation='nearest', cmap=cmap)\n",
    "    plt.title(title)\n",
    "    plt.colorbar()\n",
    "    tick_marks = np.arange(len(classes))\n",
    "    plt.xticks(tick_marks, classes, rotation=45)\n",
    "    plt.yticks(tick_marks, classes)\n",
    "\n",
    "    print('Confusion matrix (no normalization)')\n",
    "    #print(cm)\n",
    "\n",
    "    thresh = confmat.max() / 2.\n",
    "    for i, j in itertools.product(range(confmat.shape[0]), range(confmat.shape[1])):\n",
    "        plt.text(j, i, confmat[i, j],\n",
    "                 horizontalalignment=\"center\",\n",
    "                 color=\"white\" if confmat[i, j] > thresh else \"black\")\n",
    "\n",
    "    plt.tight_layout()\n",
    "    plt.ylabel('True label')\n",
    "    plt.xlabel('Predicted label')"
   ]
  },
  {
   "cell_type": "code",
   "execution_count": null,
   "metadata": {
    "collapsed": true
   },
   "outputs": [],
   "source": []
  },
  {
   "cell_type": "code",
   "execution_count": 77,
   "metadata": {},
   "outputs": [
    {
     "name": "stdout",
     "output_type": "stream",
     "text": [
      "Logistic regression: 0.821454545455\n"
     ]
    }
   ],
   "source": [
    "y = category_vec\n",
    "X = combined_vec\n",
    "X_train, X_test, y_train, y_test = train_test_split(X, y, random_state=0)\n",
    "lr = LogisticRegression(random_state=0)\n",
    "lr.fit(X_train, y_train)\n",
    "y_pred = lr.predict(X_test)\n",
    "print('Logistic regression: ' + str(accuracy_score(y_test, y_pred)))"
   ]
  },
  {
   "cell_type": "code",
   "execution_count": 119,
   "metadata": {},
   "outputs": [
    {
     "name": "stdout",
     "output_type": "stream",
     "text": [
      "             precision    recall  f1-score   support\n",
      "\n",
      "          0       0.96      0.95      0.96       237\n",
      "          1       0.80      0.81      0.80       270\n",
      "          2       0.74      0.78      0.76       240\n",
      "          3       0.76      0.78      0.77       250\n",
      "          4       0.77      0.71      0.74       227\n",
      "          5       0.97      0.97      0.97       253\n",
      "          6       0.75      0.80      0.78       251\n",
      "          7       0.82      0.79      0.80       266\n",
      "          8       0.83      0.79      0.81       263\n",
      "          9       0.82      0.89      0.85       244\n",
      "         10       0.83      0.75      0.79       249\n",
      "\n",
      "avg / total       0.82      0.82      0.82      2750\n",
      "\n",
      "Confusion matrix (no normalization)\n"
     ]
    },
    {
     "data": {
      "image/png": "[encoded data removed]",
      "text/plain": [
       "<matplotlib.figure.Figure at 0x11c7bffd0>"
      ]
     },
     "metadata": {},
     "output_type": "display_data"
    }
   ],
   "source": [
    "# One-hot encode because of NDA\n",
    "encoder = LabelEncoder()\n",
    "encoder.fit(y)\n",
    "encoded_y = encoder.transform(y)\n",
    "encoded_y_test = encoder.transform(y_test)\n",
    "encoded_y_pred = encoder.transform(y_pred)\n",
    "\n",
    "# Print scores and confusion matrix\n",
    "print(classification_report(encoded_y_test, encoded_y_pred))\n",
    "cnf_matrix = confusion_matrix(encoded_y_test, encoded_y_pred)\n",
    "\n",
    "sns.set_style(\"whitegrid\", {'axes.grid' : False})\n",
    "plt.figure(figsize=(8,8))\n",
    "plot_confusion_matrix(cnf_matrix, classes=np.unique(encoded_y))"
   ]
  },
  {
   "cell_type": "markdown",
   "metadata": {},
   "source": [
    "This shows that we're getting very good results, but we can't see the between-category differences because the diagonal is washing out the effect..."
   ]
  },
  {
   "cell_type": "code",
   "execution_count": 116,
   "metadata": {},
   "outputs": [
    {
     "name": "stdout",
     "output_type": "stream",
     "text": [
      "Confusion matrix (no normalization)\n"
     ]
    },
    {
     "data": {
      "image/png": "[encoded data removed]",
      "text/plain": [
       "<matplotlib.figure.Figure at 0x12a3859e8>"
      ]
     },
     "metadata": {},
     "output_type": "display_data"
    }
   ],
   "source": [
    "# Threshold the diagonal so we can see the errors better:\n",
    "cnf_matrix = confusion_matrix(encoded_y_test, encoded_y_pred)\n",
    "threshCM = cnf_matrix\n",
    "\n",
    "for i in range(0, 11):\n",
    "    threshCM[i][i] = 30\n",
    "\n",
    "plt.figure(figsize=(8,8))\n",
    "plot_confusion_matrix(threshCM, classes=np.unique(encoded_y),\n",
    "                      title='Confusion matrix, with thresholding')"
   ]
  },
  {
   "cell_type": "code",
   "execution_count": null,
   "metadata": {
    "collapsed": true
   },
   "outputs": [],
   "source": []
  },
  {
   "cell_type": "code",
   "execution_count": 110,
   "metadata": {
    "collapsed": true
   },
   "outputs": [],
   "source": []
  },
  {
   "cell_type": "code",
   "execution_count": null,
   "metadata": {
    "collapsed": true
   },
   "outputs": [],
   "source": []
  }
 ],
 "metadata": {
  "kernelspec": {
   "display_name": "Python 3",
   "language": "python",
   "name": "python3"
  },
  "language_info": {
   "codemirror_mode": {
    "name": "ipython",
    "version": 3
   },
   "file_extension": ".py",
   "mimetype": "text/x-python",
   "name": "python",
   "nbconvert_exporter": "python",
   "pygments_lexer": "ipython3",
   "version": "3.5.3"
  }
 },
 "nbformat": 4,
 "nbformat_minor": 2
}
